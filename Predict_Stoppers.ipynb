{
  "nbformat": 4,
  "nbformat_minor": 0,
  "metadata": {
    "colab": {
      "name": "Big Data and Data Science Project.ipynb",
      "provenance": [],
      "collapsed_sections": [
        "5-Ajc_gvlraD"
      ]
    },
    "kernelspec": {
      "display_name": "Python 3",
      "name": "python3"
    },
    "language_info": {
      "name": "python"
    }
  },
  "cells": [
    {
      "cell_type": "code",
      "metadata": {
        "id": "y162Y_ayfLUc"
      },
      "source": [
        "import pandas as pd\n",
        "import numpy as np\n",
        "\n",
        "import matplotlib.pyplot as plt\n",
        "import seaborn as sns"
      ],
      "execution_count": null,
      "outputs": []
    },
    {
      "cell_type": "code",
      "metadata": {
        "colab": {
          "base_uri": "https://localhost:8080/"
        },
        "id": "4r8Ot_iksoXD",
        "outputId": "8d8c9aaf-8034-4dc2-bccf-b4bb44238fe5"
      },
      "source": [
        "from google.colab import drive\n",
        "drive.mount(\"/content/drive\")"
      ],
      "execution_count": null,
      "outputs": [
        {
          "output_type": "stream",
          "text": [
            "Mounted at /content/drive\n"
          ],
          "name": "stdout"
        }
      ]
    },
    {
      "cell_type": "code",
      "metadata": {
        "colab": {
          "base_uri": "https://localhost:8080/",
          "height": 920
        },
        "id": "2A7nIGgUmLyP",
        "outputId": "e61aa20a-5b60-42ac-cfd5-d0d852fb7590"
      },
      "source": [
        "orders = pd.read_csv('./drive/MyDrive/dataset/orders_FE.csv', encoding= 'unicode_escape')\n",
        "orders = orders.drop('Unnamed: 0',axis=1)\n",
        "orders"
      ],
      "execution_count": null,
      "outputs": [
        {
          "output_type": "execute_result",
          "data": {
            "text/html": [
              "<div>\n",
              "<style scoped>\n",
              "    .dataframe tbody tr th:only-of-type {\n",
              "        vertical-align: middle;\n",
              "    }\n",
              "\n",
              "    .dataframe tbody tr th {\n",
              "        vertical-align: top;\n",
              "    }\n",
              "\n",
              "    .dataframe thead th {\n",
              "        text-align: right;\n",
              "    }\n",
              "</style>\n",
              "<table border=\"1\" class=\"dataframe\">\n",
              "  <thead>\n",
              "    <tr style=\"text-align: right;\">\n",
              "      <th></th>\n",
              "      <th>InvoiceDate</th>\n",
              "      <th>InvoiceNo</th>\n",
              "      <th>StockCode</th>\n",
              "      <th>Description</th>\n",
              "      <th>UnitPrice</th>\n",
              "      <th>CustomerID</th>\n",
              "      <th>Country</th>\n",
              "      <th>Quantity</th>\n",
              "      <th>amount_spent</th>\n",
              "      <th>date</th>\n",
              "      <th>time</th>\n",
              "      <th>month</th>\n",
              "      <th>month_name</th>\n",
              "      <th>is_weekend</th>\n",
              "      <th>hour</th>\n",
              "      <th>part_of_day</th>\n",
              "      <th>day</th>\n",
              "      <th>IsCancelled</th>\n",
              "    </tr>\n",
              "  </thead>\n",
              "  <tbody>\n",
              "    <tr>\n",
              "      <th>0</th>\n",
              "      <td>2010-12-01 08:26:00</td>\n",
              "      <td>536365</td>\n",
              "      <td>21730</td>\n",
              "      <td>GLASS STAR FROSTED T-LIGHT HOLDER</td>\n",
              "      <td>4.25</td>\n",
              "      <td>17850.0</td>\n",
              "      <td>United Kingdom</td>\n",
              "      <td>6</td>\n",
              "      <td>25.50</td>\n",
              "      <td>2010-12-01</td>\n",
              "      <td>08:26:00</td>\n",
              "      <td>12</td>\n",
              "      <td>Dec</td>\n",
              "      <td>0</td>\n",
              "      <td>8</td>\n",
              "      <td>3</td>\n",
              "      <td>1</td>\n",
              "      <td>False</td>\n",
              "    </tr>\n",
              "    <tr>\n",
              "      <th>1</th>\n",
              "      <td>2010-12-01 08:26:00</td>\n",
              "      <td>536365</td>\n",
              "      <td>22752</td>\n",
              "      <td>SET 7 BABUSHKA NESTING BOXES</td>\n",
              "      <td>7.65</td>\n",
              "      <td>17850.0</td>\n",
              "      <td>United Kingdom</td>\n",
              "      <td>2</td>\n",
              "      <td>15.30</td>\n",
              "      <td>2010-12-01</td>\n",
              "      <td>08:26:00</td>\n",
              "      <td>12</td>\n",
              "      <td>Dec</td>\n",
              "      <td>0</td>\n",
              "      <td>8</td>\n",
              "      <td>3</td>\n",
              "      <td>1</td>\n",
              "      <td>False</td>\n",
              "    </tr>\n",
              "    <tr>\n",
              "      <th>2</th>\n",
              "      <td>2010-12-01 08:26:00</td>\n",
              "      <td>536365</td>\n",
              "      <td>71053</td>\n",
              "      <td>WHITE METAL LANTERN</td>\n",
              "      <td>3.39</td>\n",
              "      <td>17850.0</td>\n",
              "      <td>United Kingdom</td>\n",
              "      <td>6</td>\n",
              "      <td>20.34</td>\n",
              "      <td>2010-12-01</td>\n",
              "      <td>08:26:00</td>\n",
              "      <td>12</td>\n",
              "      <td>Dec</td>\n",
              "      <td>0</td>\n",
              "      <td>8</td>\n",
              "      <td>3</td>\n",
              "      <td>1</td>\n",
              "      <td>False</td>\n",
              "    </tr>\n",
              "    <tr>\n",
              "      <th>3</th>\n",
              "      <td>2010-12-01 08:26:00</td>\n",
              "      <td>536365</td>\n",
              "      <td>84029E</td>\n",
              "      <td>RED WOOLLY HOTTIE WHITE HEART.</td>\n",
              "      <td>3.39</td>\n",
              "      <td>17850.0</td>\n",
              "      <td>United Kingdom</td>\n",
              "      <td>6</td>\n",
              "      <td>20.34</td>\n",
              "      <td>2010-12-01</td>\n",
              "      <td>08:26:00</td>\n",
              "      <td>12</td>\n",
              "      <td>Dec</td>\n",
              "      <td>0</td>\n",
              "      <td>8</td>\n",
              "      <td>3</td>\n",
              "      <td>1</td>\n",
              "      <td>False</td>\n",
              "    </tr>\n",
              "    <tr>\n",
              "      <th>4</th>\n",
              "      <td>2010-12-01 08:26:00</td>\n",
              "      <td>536365</td>\n",
              "      <td>84029G</td>\n",
              "      <td>KNITTED UNION FLAG HOT WATER BOTTLE</td>\n",
              "      <td>3.39</td>\n",
              "      <td>17850.0</td>\n",
              "      <td>United Kingdom</td>\n",
              "      <td>6</td>\n",
              "      <td>20.34</td>\n",
              "      <td>2010-12-01</td>\n",
              "      <td>08:26:00</td>\n",
              "      <td>12</td>\n",
              "      <td>Dec</td>\n",
              "      <td>0</td>\n",
              "      <td>8</td>\n",
              "      <td>3</td>\n",
              "      <td>1</td>\n",
              "      <td>False</td>\n",
              "    </tr>\n",
              "    <tr>\n",
              "      <th>...</th>\n",
              "      <td>...</td>\n",
              "      <td>...</td>\n",
              "      <td>...</td>\n",
              "      <td>...</td>\n",
              "      <td>...</td>\n",
              "      <td>...</td>\n",
              "      <td>...</td>\n",
              "      <td>...</td>\n",
              "      <td>...</td>\n",
              "      <td>...</td>\n",
              "      <td>...</td>\n",
              "      <td>...</td>\n",
              "      <td>...</td>\n",
              "      <td>...</td>\n",
              "      <td>...</td>\n",
              "      <td>...</td>\n",
              "      <td>...</td>\n",
              "      <td>...</td>\n",
              "    </tr>\n",
              "    <tr>\n",
              "      <th>531803</th>\n",
              "      <td>2011-12-09 12:50:00</td>\n",
              "      <td>581587</td>\n",
              "      <td>22730</td>\n",
              "      <td>ALARM CLOCK BAKELIKE IVORY</td>\n",
              "      <td>3.75</td>\n",
              "      <td>12680.0</td>\n",
              "      <td>France</td>\n",
              "      <td>4</td>\n",
              "      <td>15.00</td>\n",
              "      <td>2011-12-09</td>\n",
              "      <td>12:50:00</td>\n",
              "      <td>12</td>\n",
              "      <td>Dec</td>\n",
              "      <td>0</td>\n",
              "      <td>12</td>\n",
              "      <td>4</td>\n",
              "      <td>9</td>\n",
              "      <td>False</td>\n",
              "    </tr>\n",
              "    <tr>\n",
              "      <th>531804</th>\n",
              "      <td>2011-12-09 12:50:00</td>\n",
              "      <td>581587</td>\n",
              "      <td>22899</td>\n",
              "      <td>CHILDREN'S APRON DOLLY GIRL</td>\n",
              "      <td>2.10</td>\n",
              "      <td>12680.0</td>\n",
              "      <td>France</td>\n",
              "      <td>6</td>\n",
              "      <td>12.60</td>\n",
              "      <td>2011-12-09</td>\n",
              "      <td>12:50:00</td>\n",
              "      <td>12</td>\n",
              "      <td>Dec</td>\n",
              "      <td>0</td>\n",
              "      <td>12</td>\n",
              "      <td>4</td>\n",
              "      <td>9</td>\n",
              "      <td>False</td>\n",
              "    </tr>\n",
              "    <tr>\n",
              "      <th>531805</th>\n",
              "      <td>2011-12-09 12:50:00</td>\n",
              "      <td>581587</td>\n",
              "      <td>23254</td>\n",
              "      <td>CHILDRENS CUTLERY DOLLY GIRL</td>\n",
              "      <td>4.15</td>\n",
              "      <td>12680.0</td>\n",
              "      <td>France</td>\n",
              "      <td>4</td>\n",
              "      <td>16.60</td>\n",
              "      <td>2011-12-09</td>\n",
              "      <td>12:50:00</td>\n",
              "      <td>12</td>\n",
              "      <td>Dec</td>\n",
              "      <td>0</td>\n",
              "      <td>12</td>\n",
              "      <td>4</td>\n",
              "      <td>9</td>\n",
              "      <td>False</td>\n",
              "    </tr>\n",
              "    <tr>\n",
              "      <th>531806</th>\n",
              "      <td>2011-12-09 12:50:00</td>\n",
              "      <td>581587</td>\n",
              "      <td>23255</td>\n",
              "      <td>CHILDRENS CUTLERY CIRCUS PARADE</td>\n",
              "      <td>4.15</td>\n",
              "      <td>12680.0</td>\n",
              "      <td>France</td>\n",
              "      <td>4</td>\n",
              "      <td>16.60</td>\n",
              "      <td>2011-12-09</td>\n",
              "      <td>12:50:00</td>\n",
              "      <td>12</td>\n",
              "      <td>Dec</td>\n",
              "      <td>0</td>\n",
              "      <td>12</td>\n",
              "      <td>4</td>\n",
              "      <td>9</td>\n",
              "      <td>False</td>\n",
              "    </tr>\n",
              "    <tr>\n",
              "      <th>531807</th>\n",
              "      <td>2011-12-09 12:50:00</td>\n",
              "      <td>581587</td>\n",
              "      <td>23256</td>\n",
              "      <td>CHILDRENS CUTLERY SPACEBOY</td>\n",
              "      <td>4.15</td>\n",
              "      <td>12680.0</td>\n",
              "      <td>France</td>\n",
              "      <td>4</td>\n",
              "      <td>16.60</td>\n",
              "      <td>2011-12-09</td>\n",
              "      <td>12:50:00</td>\n",
              "      <td>12</td>\n",
              "      <td>Dec</td>\n",
              "      <td>0</td>\n",
              "      <td>12</td>\n",
              "      <td>4</td>\n",
              "      <td>9</td>\n",
              "      <td>False</td>\n",
              "    </tr>\n",
              "  </tbody>\n",
              "</table>\n",
              "<p>531808 rows × 18 columns</p>\n",
              "</div>"
            ],
            "text/plain": [
              "                InvoiceDate InvoiceNo StockCode  ... part_of_day  day  IsCancelled\n",
              "0       2010-12-01 08:26:00    536365     21730  ...           3    1        False\n",
              "1       2010-12-01 08:26:00    536365     22752  ...           3    1        False\n",
              "2       2010-12-01 08:26:00    536365     71053  ...           3    1        False\n",
              "3       2010-12-01 08:26:00    536365    84029E  ...           3    1        False\n",
              "4       2010-12-01 08:26:00    536365    84029G  ...           3    1        False\n",
              "...                     ...       ...       ...  ...         ...  ...          ...\n",
              "531803  2011-12-09 12:50:00    581587     22730  ...           4    9        False\n",
              "531804  2011-12-09 12:50:00    581587     22899  ...           4    9        False\n",
              "531805  2011-12-09 12:50:00    581587     23254  ...           4    9        False\n",
              "531806  2011-12-09 12:50:00    581587     23255  ...           4    9        False\n",
              "531807  2011-12-09 12:50:00    581587     23256  ...           4    9        False\n",
              "\n",
              "[531808 rows x 18 columns]"
            ]
          },
          "metadata": {
            "tags": []
          },
          "execution_count": 145
        }
      ]
    },
    {
      "cell_type": "code",
      "metadata": {
        "id": "HmAITkNsciLM"
      },
      "source": [
        "orders['InvoiceDate'] = pd.to_datetime(orders['InvoiceDate'])"
      ],
      "execution_count": null,
      "outputs": []
    },
    {
      "cell_type": "markdown",
      "metadata": {
        "id": "ctBBeTx-0Eee"
      },
      "source": [
        "# Classification Model\n",
        "### Will the user make an order in the next 3 month?"
      ]
    },
    {
      "cell_type": "markdown",
      "metadata": {
        "id": "HeOxlV94w3mk"
      },
      "source": [
        "> ## Working with data before the last 3 months to avoid data leakage"
      ]
    },
    {
      "cell_type": "markdown",
      "metadata": {
        "id": "10nQwwLDx6Qt"
      },
      "source": [
        "The approach is as follows:\n",
        "* We exclude the last 3 months from the data and build the rfm model for user and every other feature only on the data 3 months before the last day \n",
        "* We create a label for each user whether or not that user made a purchase in the last 3 month \n",
        "* We represent each user by relevant features\n",
        "* Predictions is done and the accuracy of the model is calculated\n"
      ]
    },
    {
      "cell_type": "code",
      "metadata": {
        "id": "gfj7VYuXw88o"
      },
      "source": [
        "day_model = orders[\"InvoiceDate\"].max() - pd.Timedelta(value=91, unit='days')\n",
        "\n",
        "orders_9 = orders[orders['InvoiceDate']< day_model]\n",
        "orders_3 = orders[orders['InvoiceDate']>= day_model]"
      ],
      "execution_count": null,
      "outputs": []
    },
    {
      "cell_type": "markdown",
      "metadata": {
        "id": "HiIwSccn3CNa"
      },
      "source": [
        "> ## RFM for classification model"
      ]
    },
    {
      "cell_type": "code",
      "metadata": {
        "id": "DH98nycf32Do"
      },
      "source": [
        "# Customer ID to object\n",
        "# orders['CustomerID'] = orders['CustomerID'].astype(np.object)"
      ],
      "execution_count": null,
      "outputs": []
    },
    {
      "cell_type": "code",
      "metadata": {
        "colab": {
          "base_uri": "https://localhost:8080/",
          "height": 1000
        },
        "id": "CW28nz0G9xzB",
        "outputId": "ffe546b0-ea4d-4d64-f5cf-bfa2a2153289"
      },
      "source": [
        "orders_9['TotalPrice'] = orders_9['UnitPrice'] * orders_9['Quantity']\n",
        "orders_9"
      ],
      "execution_count": null,
      "outputs": [
        {
          "output_type": "stream",
          "text": [
            "/usr/local/lib/python3.7/dist-packages/ipykernel_launcher.py:1: SettingWithCopyWarning: \n",
            "A value is trying to be set on a copy of a slice from a DataFrame.\n",
            "Try using .loc[row_indexer,col_indexer] = value instead\n",
            "\n",
            "See the caveats in the documentation: https://pandas.pydata.org/pandas-docs/stable/user_guide/indexing.html#returning-a-view-versus-a-copy\n",
            "  \"\"\"Entry point for launching an IPython kernel.\n"
          ],
          "name": "stderr"
        },
        {
          "output_type": "execute_result",
          "data": {
            "text/html": [
              "<div>\n",
              "<style scoped>\n",
              "    .dataframe tbody tr th:only-of-type {\n",
              "        vertical-align: middle;\n",
              "    }\n",
              "\n",
              "    .dataframe tbody tr th {\n",
              "        vertical-align: top;\n",
              "    }\n",
              "\n",
              "    .dataframe thead th {\n",
              "        text-align: right;\n",
              "    }\n",
              "</style>\n",
              "<table border=\"1\" class=\"dataframe\">\n",
              "  <thead>\n",
              "    <tr style=\"text-align: right;\">\n",
              "      <th></th>\n",
              "      <th>InvoiceDate</th>\n",
              "      <th>InvoiceNo</th>\n",
              "      <th>StockCode</th>\n",
              "      <th>Description</th>\n",
              "      <th>UnitPrice</th>\n",
              "      <th>CustomerID</th>\n",
              "      <th>Country</th>\n",
              "      <th>Quantity</th>\n",
              "      <th>amount_spent</th>\n",
              "      <th>date</th>\n",
              "      <th>time</th>\n",
              "      <th>month</th>\n",
              "      <th>month_name</th>\n",
              "      <th>is_weekend</th>\n",
              "      <th>hour</th>\n",
              "      <th>part_of_day</th>\n",
              "      <th>day</th>\n",
              "      <th>IsCancelled</th>\n",
              "      <th>TotalPrice</th>\n",
              "    </tr>\n",
              "  </thead>\n",
              "  <tbody>\n",
              "    <tr>\n",
              "      <th>0</th>\n",
              "      <td>2010-12-01 08:26:00</td>\n",
              "      <td>536365</td>\n",
              "      <td>21730</td>\n",
              "      <td>GLASS STAR FROSTED T-LIGHT HOLDER</td>\n",
              "      <td>4.25</td>\n",
              "      <td>17850.0</td>\n",
              "      <td>United Kingdom</td>\n",
              "      <td>6</td>\n",
              "      <td>25.50</td>\n",
              "      <td>2010-12-01</td>\n",
              "      <td>08:26:00</td>\n",
              "      <td>12</td>\n",
              "      <td>Dec</td>\n",
              "      <td>0</td>\n",
              "      <td>8</td>\n",
              "      <td>3</td>\n",
              "      <td>1</td>\n",
              "      <td>False</td>\n",
              "      <td>25.50</td>\n",
              "    </tr>\n",
              "    <tr>\n",
              "      <th>1</th>\n",
              "      <td>2010-12-01 08:26:00</td>\n",
              "      <td>536365</td>\n",
              "      <td>22752</td>\n",
              "      <td>SET 7 BABUSHKA NESTING BOXES</td>\n",
              "      <td>7.65</td>\n",
              "      <td>17850.0</td>\n",
              "      <td>United Kingdom</td>\n",
              "      <td>2</td>\n",
              "      <td>15.30</td>\n",
              "      <td>2010-12-01</td>\n",
              "      <td>08:26:00</td>\n",
              "      <td>12</td>\n",
              "      <td>Dec</td>\n",
              "      <td>0</td>\n",
              "      <td>8</td>\n",
              "      <td>3</td>\n",
              "      <td>1</td>\n",
              "      <td>False</td>\n",
              "      <td>15.30</td>\n",
              "    </tr>\n",
              "    <tr>\n",
              "      <th>2</th>\n",
              "      <td>2010-12-01 08:26:00</td>\n",
              "      <td>536365</td>\n",
              "      <td>71053</td>\n",
              "      <td>WHITE METAL LANTERN</td>\n",
              "      <td>3.39</td>\n",
              "      <td>17850.0</td>\n",
              "      <td>United Kingdom</td>\n",
              "      <td>6</td>\n",
              "      <td>20.34</td>\n",
              "      <td>2010-12-01</td>\n",
              "      <td>08:26:00</td>\n",
              "      <td>12</td>\n",
              "      <td>Dec</td>\n",
              "      <td>0</td>\n",
              "      <td>8</td>\n",
              "      <td>3</td>\n",
              "      <td>1</td>\n",
              "      <td>False</td>\n",
              "      <td>20.34</td>\n",
              "    </tr>\n",
              "    <tr>\n",
              "      <th>3</th>\n",
              "      <td>2010-12-01 08:26:00</td>\n",
              "      <td>536365</td>\n",
              "      <td>84029E</td>\n",
              "      <td>RED WOOLLY HOTTIE WHITE HEART.</td>\n",
              "      <td>3.39</td>\n",
              "      <td>17850.0</td>\n",
              "      <td>United Kingdom</td>\n",
              "      <td>6</td>\n",
              "      <td>20.34</td>\n",
              "      <td>2010-12-01</td>\n",
              "      <td>08:26:00</td>\n",
              "      <td>12</td>\n",
              "      <td>Dec</td>\n",
              "      <td>0</td>\n",
              "      <td>8</td>\n",
              "      <td>3</td>\n",
              "      <td>1</td>\n",
              "      <td>False</td>\n",
              "      <td>20.34</td>\n",
              "    </tr>\n",
              "    <tr>\n",
              "      <th>4</th>\n",
              "      <td>2010-12-01 08:26:00</td>\n",
              "      <td>536365</td>\n",
              "      <td>84029G</td>\n",
              "      <td>KNITTED UNION FLAG HOT WATER BOTTLE</td>\n",
              "      <td>3.39</td>\n",
              "      <td>17850.0</td>\n",
              "      <td>United Kingdom</td>\n",
              "      <td>6</td>\n",
              "      <td>20.34</td>\n",
              "      <td>2010-12-01</td>\n",
              "      <td>08:26:00</td>\n",
              "      <td>12</td>\n",
              "      <td>Dec</td>\n",
              "      <td>0</td>\n",
              "      <td>8</td>\n",
              "      <td>3</td>\n",
              "      <td>1</td>\n",
              "      <td>False</td>\n",
              "      <td>20.34</td>\n",
              "    </tr>\n",
              "    <tr>\n",
              "      <th>...</th>\n",
              "      <td>...</td>\n",
              "      <td>...</td>\n",
              "      <td>...</td>\n",
              "      <td>...</td>\n",
              "      <td>...</td>\n",
              "      <td>...</td>\n",
              "      <td>...</td>\n",
              "      <td>...</td>\n",
              "      <td>...</td>\n",
              "      <td>...</td>\n",
              "      <td>...</td>\n",
              "      <td>...</td>\n",
              "      <td>...</td>\n",
              "      <td>...</td>\n",
              "      <td>...</td>\n",
              "      <td>...</td>\n",
              "      <td>...</td>\n",
              "      <td>...</td>\n",
              "      <td>...</td>\n",
              "    </tr>\n",
              "    <tr>\n",
              "      <th>328455</th>\n",
              "      <td>2011-09-09 12:42:00</td>\n",
              "      <td>566179</td>\n",
              "      <td>23236</td>\n",
              "      <td>STORAGE TIN VINTAGE DOILY</td>\n",
              "      <td>2.89</td>\n",
              "      <td>0.0</td>\n",
              "      <td>Israel</td>\n",
              "      <td>2</td>\n",
              "      <td>5.78</td>\n",
              "      <td>2011-09-09</td>\n",
              "      <td>12:42:00</td>\n",
              "      <td>9</td>\n",
              "      <td>Sep</td>\n",
              "      <td>0</td>\n",
              "      <td>12</td>\n",
              "      <td>4</td>\n",
              "      <td>9</td>\n",
              "      <td>False</td>\n",
              "      <td>5.78</td>\n",
              "    </tr>\n",
              "    <tr>\n",
              "      <th>328456</th>\n",
              "      <td>2011-09-09 12:42:00</td>\n",
              "      <td>566179</td>\n",
              "      <td>23240</td>\n",
              "      <td>SET OF 4 KNICK KNACK TINS DOILY</td>\n",
              "      <td>4.15</td>\n",
              "      <td>0.0</td>\n",
              "      <td>Israel</td>\n",
              "      <td>5</td>\n",
              "      <td>20.75</td>\n",
              "      <td>2011-09-09</td>\n",
              "      <td>12:42:00</td>\n",
              "      <td>9</td>\n",
              "      <td>Sep</td>\n",
              "      <td>0</td>\n",
              "      <td>12</td>\n",
              "      <td>4</td>\n",
              "      <td>9</td>\n",
              "      <td>False</td>\n",
              "      <td>20.75</td>\n",
              "    </tr>\n",
              "    <tr>\n",
              "      <th>328457</th>\n",
              "      <td>2011-09-09 12:42:00</td>\n",
              "      <td>566179</td>\n",
              "      <td>23433</td>\n",
              "      <td>HANGING QUILTED PATCHWORK APPLES</td>\n",
              "      <td>0.83</td>\n",
              "      <td>0.0</td>\n",
              "      <td>Israel</td>\n",
              "      <td>36</td>\n",
              "      <td>29.88</td>\n",
              "      <td>2011-09-09</td>\n",
              "      <td>12:42:00</td>\n",
              "      <td>9</td>\n",
              "      <td>Sep</td>\n",
              "      <td>0</td>\n",
              "      <td>12</td>\n",
              "      <td>4</td>\n",
              "      <td>9</td>\n",
              "      <td>False</td>\n",
              "      <td>29.88</td>\n",
              "    </tr>\n",
              "    <tr>\n",
              "      <th>328458</th>\n",
              "      <td>2011-09-09 12:42:00</td>\n",
              "      <td>566179</td>\n",
              "      <td>47574A</td>\n",
              "      <td>ENGLISH ROSE SCENTED HANGING FLOWER</td>\n",
              "      <td>0.75</td>\n",
              "      <td>0.0</td>\n",
              "      <td>Israel</td>\n",
              "      <td>6</td>\n",
              "      <td>4.50</td>\n",
              "      <td>2011-09-09</td>\n",
              "      <td>12:42:00</td>\n",
              "      <td>9</td>\n",
              "      <td>Sep</td>\n",
              "      <td>0</td>\n",
              "      <td>12</td>\n",
              "      <td>4</td>\n",
              "      <td>9</td>\n",
              "      <td>False</td>\n",
              "      <td>4.50</td>\n",
              "    </tr>\n",
              "    <tr>\n",
              "      <th>328459</th>\n",
              "      <td>2011-09-09 12:42:00</td>\n",
              "      <td>566179</td>\n",
              "      <td>84920</td>\n",
              "      <td>PINK FLOWER FABRIC PONY</td>\n",
              "      <td>3.75</td>\n",
              "      <td>0.0</td>\n",
              "      <td>Israel</td>\n",
              "      <td>3</td>\n",
              "      <td>11.25</td>\n",
              "      <td>2011-09-09</td>\n",
              "      <td>12:42:00</td>\n",
              "      <td>9</td>\n",
              "      <td>Sep</td>\n",
              "      <td>0</td>\n",
              "      <td>12</td>\n",
              "      <td>4</td>\n",
              "      <td>9</td>\n",
              "      <td>False</td>\n",
              "      <td>11.25</td>\n",
              "    </tr>\n",
              "  </tbody>\n",
              "</table>\n",
              "<p>328460 rows × 19 columns</p>\n",
              "</div>"
            ],
            "text/plain": [
              "               InvoiceDate InvoiceNo StockCode  ... day  IsCancelled  TotalPrice\n",
              "0      2010-12-01 08:26:00    536365     21730  ...   1        False       25.50\n",
              "1      2010-12-01 08:26:00    536365     22752  ...   1        False       15.30\n",
              "2      2010-12-01 08:26:00    536365     71053  ...   1        False       20.34\n",
              "3      2010-12-01 08:26:00    536365    84029E  ...   1        False       20.34\n",
              "4      2010-12-01 08:26:00    536365    84029G  ...   1        False       20.34\n",
              "...                    ...       ...       ...  ...  ..          ...         ...\n",
              "328455 2011-09-09 12:42:00    566179     23236  ...   9        False        5.78\n",
              "328456 2011-09-09 12:42:00    566179     23240  ...   9        False       20.75\n",
              "328457 2011-09-09 12:42:00    566179     23433  ...   9        False       29.88\n",
              "328458 2011-09-09 12:42:00    566179    47574A  ...   9        False        4.50\n",
              "328459 2011-09-09 12:42:00    566179     84920  ...   9        False       11.25\n",
              "\n",
              "[328460 rows x 19 columns]"
            ]
          },
          "metadata": {
            "tags": []
          },
          "execution_count": 153
        }
      ]
    },
    {
      "cell_type": "code",
      "metadata": {
        "colab": {
          "base_uri": "https://localhost:8080/",
          "height": 937
        },
        "id": "gz8uz7SXsdew",
        "outputId": "17996436-0eb6-491c-db21-d4f5b983d2ed"
      },
      "source": [
        "# working only with purchases and not returns\n",
        "orders_9 = orders_9[orders_9['TotalPrice'] > 0]\n",
        "orders_9"
      ],
      "execution_count": null,
      "outputs": [
        {
          "output_type": "execute_result",
          "data": {
            "text/html": [
              "<div>\n",
              "<style scoped>\n",
              "    .dataframe tbody tr th:only-of-type {\n",
              "        vertical-align: middle;\n",
              "    }\n",
              "\n",
              "    .dataframe tbody tr th {\n",
              "        vertical-align: top;\n",
              "    }\n",
              "\n",
              "    .dataframe thead th {\n",
              "        text-align: right;\n",
              "    }\n",
              "</style>\n",
              "<table border=\"1\" class=\"dataframe\">\n",
              "  <thead>\n",
              "    <tr style=\"text-align: right;\">\n",
              "      <th></th>\n",
              "      <th>InvoiceDate</th>\n",
              "      <th>InvoiceNo</th>\n",
              "      <th>StockCode</th>\n",
              "      <th>Description</th>\n",
              "      <th>UnitPrice</th>\n",
              "      <th>CustomerID</th>\n",
              "      <th>Country</th>\n",
              "      <th>Quantity</th>\n",
              "      <th>amount_spent</th>\n",
              "      <th>date</th>\n",
              "      <th>time</th>\n",
              "      <th>month</th>\n",
              "      <th>month_name</th>\n",
              "      <th>is_weekend</th>\n",
              "      <th>hour</th>\n",
              "      <th>part_of_day</th>\n",
              "      <th>day</th>\n",
              "      <th>IsCancelled</th>\n",
              "      <th>TotalPrice</th>\n",
              "    </tr>\n",
              "  </thead>\n",
              "  <tbody>\n",
              "    <tr>\n",
              "      <th>0</th>\n",
              "      <td>2010-12-01 08:26:00</td>\n",
              "      <td>536365</td>\n",
              "      <td>21730</td>\n",
              "      <td>GLASS STAR FROSTED T-LIGHT HOLDER</td>\n",
              "      <td>4.25</td>\n",
              "      <td>17850.0</td>\n",
              "      <td>United Kingdom</td>\n",
              "      <td>6</td>\n",
              "      <td>25.50</td>\n",
              "      <td>2010-12-01</td>\n",
              "      <td>08:26:00</td>\n",
              "      <td>12</td>\n",
              "      <td>Dec</td>\n",
              "      <td>0</td>\n",
              "      <td>8</td>\n",
              "      <td>3</td>\n",
              "      <td>1</td>\n",
              "      <td>False</td>\n",
              "      <td>25.50</td>\n",
              "    </tr>\n",
              "    <tr>\n",
              "      <th>1</th>\n",
              "      <td>2010-12-01 08:26:00</td>\n",
              "      <td>536365</td>\n",
              "      <td>22752</td>\n",
              "      <td>SET 7 BABUSHKA NESTING BOXES</td>\n",
              "      <td>7.65</td>\n",
              "      <td>17850.0</td>\n",
              "      <td>United Kingdom</td>\n",
              "      <td>2</td>\n",
              "      <td>15.30</td>\n",
              "      <td>2010-12-01</td>\n",
              "      <td>08:26:00</td>\n",
              "      <td>12</td>\n",
              "      <td>Dec</td>\n",
              "      <td>0</td>\n",
              "      <td>8</td>\n",
              "      <td>3</td>\n",
              "      <td>1</td>\n",
              "      <td>False</td>\n",
              "      <td>15.30</td>\n",
              "    </tr>\n",
              "    <tr>\n",
              "      <th>2</th>\n",
              "      <td>2010-12-01 08:26:00</td>\n",
              "      <td>536365</td>\n",
              "      <td>71053</td>\n",
              "      <td>WHITE METAL LANTERN</td>\n",
              "      <td>3.39</td>\n",
              "      <td>17850.0</td>\n",
              "      <td>United Kingdom</td>\n",
              "      <td>6</td>\n",
              "      <td>20.34</td>\n",
              "      <td>2010-12-01</td>\n",
              "      <td>08:26:00</td>\n",
              "      <td>12</td>\n",
              "      <td>Dec</td>\n",
              "      <td>0</td>\n",
              "      <td>8</td>\n",
              "      <td>3</td>\n",
              "      <td>1</td>\n",
              "      <td>False</td>\n",
              "      <td>20.34</td>\n",
              "    </tr>\n",
              "    <tr>\n",
              "      <th>3</th>\n",
              "      <td>2010-12-01 08:26:00</td>\n",
              "      <td>536365</td>\n",
              "      <td>84029E</td>\n",
              "      <td>RED WOOLLY HOTTIE WHITE HEART.</td>\n",
              "      <td>3.39</td>\n",
              "      <td>17850.0</td>\n",
              "      <td>United Kingdom</td>\n",
              "      <td>6</td>\n",
              "      <td>20.34</td>\n",
              "      <td>2010-12-01</td>\n",
              "      <td>08:26:00</td>\n",
              "      <td>12</td>\n",
              "      <td>Dec</td>\n",
              "      <td>0</td>\n",
              "      <td>8</td>\n",
              "      <td>3</td>\n",
              "      <td>1</td>\n",
              "      <td>False</td>\n",
              "      <td>20.34</td>\n",
              "    </tr>\n",
              "    <tr>\n",
              "      <th>4</th>\n",
              "      <td>2010-12-01 08:26:00</td>\n",
              "      <td>536365</td>\n",
              "      <td>84029G</td>\n",
              "      <td>KNITTED UNION FLAG HOT WATER BOTTLE</td>\n",
              "      <td>3.39</td>\n",
              "      <td>17850.0</td>\n",
              "      <td>United Kingdom</td>\n",
              "      <td>6</td>\n",
              "      <td>20.34</td>\n",
              "      <td>2010-12-01</td>\n",
              "      <td>08:26:00</td>\n",
              "      <td>12</td>\n",
              "      <td>Dec</td>\n",
              "      <td>0</td>\n",
              "      <td>8</td>\n",
              "      <td>3</td>\n",
              "      <td>1</td>\n",
              "      <td>False</td>\n",
              "      <td>20.34</td>\n",
              "    </tr>\n",
              "    <tr>\n",
              "      <th>...</th>\n",
              "      <td>...</td>\n",
              "      <td>...</td>\n",
              "      <td>...</td>\n",
              "      <td>...</td>\n",
              "      <td>...</td>\n",
              "      <td>...</td>\n",
              "      <td>...</td>\n",
              "      <td>...</td>\n",
              "      <td>...</td>\n",
              "      <td>...</td>\n",
              "      <td>...</td>\n",
              "      <td>...</td>\n",
              "      <td>...</td>\n",
              "      <td>...</td>\n",
              "      <td>...</td>\n",
              "      <td>...</td>\n",
              "      <td>...</td>\n",
              "      <td>...</td>\n",
              "      <td>...</td>\n",
              "    </tr>\n",
              "    <tr>\n",
              "      <th>328455</th>\n",
              "      <td>2011-09-09 12:42:00</td>\n",
              "      <td>566179</td>\n",
              "      <td>23236</td>\n",
              "      <td>STORAGE TIN VINTAGE DOILY</td>\n",
              "      <td>2.89</td>\n",
              "      <td>0.0</td>\n",
              "      <td>Israel</td>\n",
              "      <td>2</td>\n",
              "      <td>5.78</td>\n",
              "      <td>2011-09-09</td>\n",
              "      <td>12:42:00</td>\n",
              "      <td>9</td>\n",
              "      <td>Sep</td>\n",
              "      <td>0</td>\n",
              "      <td>12</td>\n",
              "      <td>4</td>\n",
              "      <td>9</td>\n",
              "      <td>False</td>\n",
              "      <td>5.78</td>\n",
              "    </tr>\n",
              "    <tr>\n",
              "      <th>328456</th>\n",
              "      <td>2011-09-09 12:42:00</td>\n",
              "      <td>566179</td>\n",
              "      <td>23240</td>\n",
              "      <td>SET OF 4 KNICK KNACK TINS DOILY</td>\n",
              "      <td>4.15</td>\n",
              "      <td>0.0</td>\n",
              "      <td>Israel</td>\n",
              "      <td>5</td>\n",
              "      <td>20.75</td>\n",
              "      <td>2011-09-09</td>\n",
              "      <td>12:42:00</td>\n",
              "      <td>9</td>\n",
              "      <td>Sep</td>\n",
              "      <td>0</td>\n",
              "      <td>12</td>\n",
              "      <td>4</td>\n",
              "      <td>9</td>\n",
              "      <td>False</td>\n",
              "      <td>20.75</td>\n",
              "    </tr>\n",
              "    <tr>\n",
              "      <th>328457</th>\n",
              "      <td>2011-09-09 12:42:00</td>\n",
              "      <td>566179</td>\n",
              "      <td>23433</td>\n",
              "      <td>HANGING QUILTED PATCHWORK APPLES</td>\n",
              "      <td>0.83</td>\n",
              "      <td>0.0</td>\n",
              "      <td>Israel</td>\n",
              "      <td>36</td>\n",
              "      <td>29.88</td>\n",
              "      <td>2011-09-09</td>\n",
              "      <td>12:42:00</td>\n",
              "      <td>9</td>\n",
              "      <td>Sep</td>\n",
              "      <td>0</td>\n",
              "      <td>12</td>\n",
              "      <td>4</td>\n",
              "      <td>9</td>\n",
              "      <td>False</td>\n",
              "      <td>29.88</td>\n",
              "    </tr>\n",
              "    <tr>\n",
              "      <th>328458</th>\n",
              "      <td>2011-09-09 12:42:00</td>\n",
              "      <td>566179</td>\n",
              "      <td>47574A</td>\n",
              "      <td>ENGLISH ROSE SCENTED HANGING FLOWER</td>\n",
              "      <td>0.75</td>\n",
              "      <td>0.0</td>\n",
              "      <td>Israel</td>\n",
              "      <td>6</td>\n",
              "      <td>4.50</td>\n",
              "      <td>2011-09-09</td>\n",
              "      <td>12:42:00</td>\n",
              "      <td>9</td>\n",
              "      <td>Sep</td>\n",
              "      <td>0</td>\n",
              "      <td>12</td>\n",
              "      <td>4</td>\n",
              "      <td>9</td>\n",
              "      <td>False</td>\n",
              "      <td>4.50</td>\n",
              "    </tr>\n",
              "    <tr>\n",
              "      <th>328459</th>\n",
              "      <td>2011-09-09 12:42:00</td>\n",
              "      <td>566179</td>\n",
              "      <td>84920</td>\n",
              "      <td>PINK FLOWER FABRIC PONY</td>\n",
              "      <td>3.75</td>\n",
              "      <td>0.0</td>\n",
              "      <td>Israel</td>\n",
              "      <td>3</td>\n",
              "      <td>11.25</td>\n",
              "      <td>2011-09-09</td>\n",
              "      <td>12:42:00</td>\n",
              "      <td>9</td>\n",
              "      <td>Sep</td>\n",
              "      <td>0</td>\n",
              "      <td>12</td>\n",
              "      <td>4</td>\n",
              "      <td>9</td>\n",
              "      <td>False</td>\n",
              "      <td>11.25</td>\n",
              "    </tr>\n",
              "  </tbody>\n",
              "</table>\n",
              "<p>320672 rows × 19 columns</p>\n",
              "</div>"
            ],
            "text/plain": [
              "               InvoiceDate InvoiceNo StockCode  ... day  IsCancelled  TotalPrice\n",
              "0      2010-12-01 08:26:00    536365     21730  ...   1        False       25.50\n",
              "1      2010-12-01 08:26:00    536365     22752  ...   1        False       15.30\n",
              "2      2010-12-01 08:26:00    536365     71053  ...   1        False       20.34\n",
              "3      2010-12-01 08:26:00    536365    84029E  ...   1        False       20.34\n",
              "4      2010-12-01 08:26:00    536365    84029G  ...   1        False       20.34\n",
              "...                    ...       ...       ...  ...  ..          ...         ...\n",
              "328455 2011-09-09 12:42:00    566179     23236  ...   9        False        5.78\n",
              "328456 2011-09-09 12:42:00    566179     23240  ...   9        False       20.75\n",
              "328457 2011-09-09 12:42:00    566179     23433  ...   9        False       29.88\n",
              "328458 2011-09-09 12:42:00    566179    47574A  ...   9        False        4.50\n",
              "328459 2011-09-09 12:42:00    566179     84920  ...   9        False       11.25\n",
              "\n",
              "[320672 rows x 19 columns]"
            ]
          },
          "metadata": {
            "tags": []
          },
          "execution_count": 154
        }
      ]
    },
    {
      "cell_type": "code",
      "metadata": {
        "colab": {
          "base_uri": "https://localhost:8080/"
        },
        "id": "V2bUsz55j7Cn",
        "outputId": "a1179767-95dd-4add-9af6-9d1e1eec376f"
      },
      "source": [
        "# the last date of purchase\n",
        "orders_9[\"InvoiceDate\"].max()"
      ],
      "execution_count": null,
      "outputs": [
        {
          "output_type": "execute_result",
          "data": {
            "text/plain": [
              "Timestamp('2011-09-09 12:42:00')"
            ]
          },
          "metadata": {
            "tags": []
          },
          "execution_count": 155
        }
      ]
    },
    {
      "cell_type": "code",
      "metadata": {
        "id": "n51r4lhQj1LU"
      },
      "source": [
        "import datetime as dt\n",
        "today_date = dt.datetime(2011, 12, 11)"
      ],
      "execution_count": null,
      "outputs": []
    },
    {
      "cell_type": "code",
      "metadata": {
        "colab": {
          "base_uri": "https://localhost:8080/",
          "height": 446
        },
        "id": "RgAyV_m3kAcg",
        "outputId": "15698bb6-6123-4b9e-8a5c-f44b22c2d26f"
      },
      "source": [
        "rfm = orders_9.groupby('CustomerID').agg({'InvoiceDate': lambda InvoiceDate: (today_date - InvoiceDate.max()).days,\n",
        "                                     'InvoiceNo': lambda Invoice: Invoice.nunique(),\n",
        "                                     'TotalPrice': lambda TotalPrice: TotalPrice.sum()})\n",
        "rfm"
      ],
      "execution_count": null,
      "outputs": [
        {
          "output_type": "execute_result",
          "data": {
            "text/html": [
              "<div>\n",
              "<style scoped>\n",
              "    .dataframe tbody tr th:only-of-type {\n",
              "        vertical-align: middle;\n",
              "    }\n",
              "\n",
              "    .dataframe tbody tr th {\n",
              "        vertical-align: top;\n",
              "    }\n",
              "\n",
              "    .dataframe thead th {\n",
              "        text-align: right;\n",
              "    }\n",
              "</style>\n",
              "<table border=\"1\" class=\"dataframe\">\n",
              "  <thead>\n",
              "    <tr style=\"text-align: right;\">\n",
              "      <th></th>\n",
              "      <th>InvoiceDate</th>\n",
              "      <th>InvoiceNo</th>\n",
              "      <th>TotalPrice</th>\n",
              "    </tr>\n",
              "    <tr>\n",
              "      <th>CustomerID</th>\n",
              "      <th></th>\n",
              "      <th></th>\n",
              "      <th></th>\n",
              "    </tr>\n",
              "  </thead>\n",
              "  <tbody>\n",
              "    <tr>\n",
              "      <th>0.0</th>\n",
              "      <td>92</td>\n",
              "      <td>1109</td>\n",
              "      <td>1101757.36</td>\n",
              "    </tr>\n",
              "    <tr>\n",
              "      <th>12346.0</th>\n",
              "      <td>326</td>\n",
              "      <td>1</td>\n",
              "      <td>77183.60</td>\n",
              "    </tr>\n",
              "    <tr>\n",
              "      <th>12347.0</th>\n",
              "      <td>130</td>\n",
              "      <td>5</td>\n",
              "      <td>2790.86</td>\n",
              "    </tr>\n",
              "    <tr>\n",
              "      <th>12348.0</th>\n",
              "      <td>249</td>\n",
              "      <td>3</td>\n",
              "      <td>1487.24</td>\n",
              "    </tr>\n",
              "    <tr>\n",
              "      <th>12350.0</th>\n",
              "      <td>311</td>\n",
              "      <td>1</td>\n",
              "      <td>334.40</td>\n",
              "    </tr>\n",
              "    <tr>\n",
              "      <th>...</th>\n",
              "      <td>...</td>\n",
              "      <td>...</td>\n",
              "      <td>...</td>\n",
              "    </tr>\n",
              "    <tr>\n",
              "      <th>18280.0</th>\n",
              "      <td>278</td>\n",
              "      <td>1</td>\n",
              "      <td>180.60</td>\n",
              "    </tr>\n",
              "    <tr>\n",
              "      <th>18281.0</th>\n",
              "      <td>181</td>\n",
              "      <td>1</td>\n",
              "      <td>80.82</td>\n",
              "    </tr>\n",
              "    <tr>\n",
              "      <th>18282.0</th>\n",
              "      <td>127</td>\n",
              "      <td>1</td>\n",
              "      <td>100.21</td>\n",
              "    </tr>\n",
              "    <tr>\n",
              "      <th>18283.0</th>\n",
              "      <td>96</td>\n",
              "      <td>10</td>\n",
              "      <td>1120.67</td>\n",
              "    </tr>\n",
              "    <tr>\n",
              "      <th>18287.0</th>\n",
              "      <td>202</td>\n",
              "      <td>1</td>\n",
              "      <td>765.28</td>\n",
              "    </tr>\n",
              "  </tbody>\n",
              "</table>\n",
              "<p>3366 rows × 3 columns</p>\n",
              "</div>"
            ],
            "text/plain": [
              "            InvoiceDate  InvoiceNo  TotalPrice\n",
              "CustomerID                                    \n",
              "0.0                  92       1109  1101757.36\n",
              "12346.0             326          1    77183.60\n",
              "12347.0             130          5     2790.86\n",
              "12348.0             249          3     1487.24\n",
              "12350.0             311          1      334.40\n",
              "...                 ...        ...         ...\n",
              "18280.0             278          1      180.60\n",
              "18281.0             181          1       80.82\n",
              "18282.0             127          1      100.21\n",
              "18283.0              96         10     1120.67\n",
              "18287.0             202          1      765.28\n",
              "\n",
              "[3366 rows x 3 columns]"
            ]
          },
          "metadata": {
            "tags": []
          },
          "execution_count": 157
        }
      ]
    },
    {
      "cell_type": "code",
      "metadata": {
        "colab": {
          "base_uri": "https://localhost:8080/",
          "height": 446
        },
        "id": "xnlJN-T_kcBb",
        "outputId": "c9ebd3b2-197d-46a5-d56a-8f88fab4ed96"
      },
      "source": [
        "rfm.columns = ['recency', 'frequency', 'monetary']\n",
        "rfm"
      ],
      "execution_count": null,
      "outputs": [
        {
          "output_type": "execute_result",
          "data": {
            "text/html": [
              "<div>\n",
              "<style scoped>\n",
              "    .dataframe tbody tr th:only-of-type {\n",
              "        vertical-align: middle;\n",
              "    }\n",
              "\n",
              "    .dataframe tbody tr th {\n",
              "        vertical-align: top;\n",
              "    }\n",
              "\n",
              "    .dataframe thead th {\n",
              "        text-align: right;\n",
              "    }\n",
              "</style>\n",
              "<table border=\"1\" class=\"dataframe\">\n",
              "  <thead>\n",
              "    <tr style=\"text-align: right;\">\n",
              "      <th></th>\n",
              "      <th>recency</th>\n",
              "      <th>frequency</th>\n",
              "      <th>monetary</th>\n",
              "    </tr>\n",
              "    <tr>\n",
              "      <th>CustomerID</th>\n",
              "      <th></th>\n",
              "      <th></th>\n",
              "      <th></th>\n",
              "    </tr>\n",
              "  </thead>\n",
              "  <tbody>\n",
              "    <tr>\n",
              "      <th>0.0</th>\n",
              "      <td>92</td>\n",
              "      <td>1109</td>\n",
              "      <td>1101757.36</td>\n",
              "    </tr>\n",
              "    <tr>\n",
              "      <th>12346.0</th>\n",
              "      <td>326</td>\n",
              "      <td>1</td>\n",
              "      <td>77183.60</td>\n",
              "    </tr>\n",
              "    <tr>\n",
              "      <th>12347.0</th>\n",
              "      <td>130</td>\n",
              "      <td>5</td>\n",
              "      <td>2790.86</td>\n",
              "    </tr>\n",
              "    <tr>\n",
              "      <th>12348.0</th>\n",
              "      <td>249</td>\n",
              "      <td>3</td>\n",
              "      <td>1487.24</td>\n",
              "    </tr>\n",
              "    <tr>\n",
              "      <th>12350.0</th>\n",
              "      <td>311</td>\n",
              "      <td>1</td>\n",
              "      <td>334.40</td>\n",
              "    </tr>\n",
              "    <tr>\n",
              "      <th>...</th>\n",
              "      <td>...</td>\n",
              "      <td>...</td>\n",
              "      <td>...</td>\n",
              "    </tr>\n",
              "    <tr>\n",
              "      <th>18280.0</th>\n",
              "      <td>278</td>\n",
              "      <td>1</td>\n",
              "      <td>180.60</td>\n",
              "    </tr>\n",
              "    <tr>\n",
              "      <th>18281.0</th>\n",
              "      <td>181</td>\n",
              "      <td>1</td>\n",
              "      <td>80.82</td>\n",
              "    </tr>\n",
              "    <tr>\n",
              "      <th>18282.0</th>\n",
              "      <td>127</td>\n",
              "      <td>1</td>\n",
              "      <td>100.21</td>\n",
              "    </tr>\n",
              "    <tr>\n",
              "      <th>18283.0</th>\n",
              "      <td>96</td>\n",
              "      <td>10</td>\n",
              "      <td>1120.67</td>\n",
              "    </tr>\n",
              "    <tr>\n",
              "      <th>18287.0</th>\n",
              "      <td>202</td>\n",
              "      <td>1</td>\n",
              "      <td>765.28</td>\n",
              "    </tr>\n",
              "  </tbody>\n",
              "</table>\n",
              "<p>3366 rows × 3 columns</p>\n",
              "</div>"
            ],
            "text/plain": [
              "            recency  frequency    monetary\n",
              "CustomerID                                \n",
              "0.0              92       1109  1101757.36\n",
              "12346.0         326          1    77183.60\n",
              "12347.0         130          5     2790.86\n",
              "12348.0         249          3     1487.24\n",
              "12350.0         311          1      334.40\n",
              "...             ...        ...         ...\n",
              "18280.0         278          1      180.60\n",
              "18281.0         181          1       80.82\n",
              "18282.0         127          1      100.21\n",
              "18283.0          96         10     1120.67\n",
              "18287.0         202          1      765.28\n",
              "\n",
              "[3366 rows x 3 columns]"
            ]
          },
          "metadata": {
            "tags": []
          },
          "execution_count": 158
        }
      ]
    },
    {
      "cell_type": "code",
      "metadata": {
        "colab": {
          "base_uri": "https://localhost:8080/",
          "height": 415
        },
        "id": "s_icYoh-rwl4",
        "outputId": "156c5401-5637-4d66-f03b-862e1a433e29"
      },
      "source": [
        "rfm = rfm.reset_index()\n",
        "rfm"
      ],
      "execution_count": null,
      "outputs": [
        {
          "output_type": "execute_result",
          "data": {
            "text/html": [
              "<div>\n",
              "<style scoped>\n",
              "    .dataframe tbody tr th:only-of-type {\n",
              "        vertical-align: middle;\n",
              "    }\n",
              "\n",
              "    .dataframe tbody tr th {\n",
              "        vertical-align: top;\n",
              "    }\n",
              "\n",
              "    .dataframe thead th {\n",
              "        text-align: right;\n",
              "    }\n",
              "</style>\n",
              "<table border=\"1\" class=\"dataframe\">\n",
              "  <thead>\n",
              "    <tr style=\"text-align: right;\">\n",
              "      <th></th>\n",
              "      <th>CustomerID</th>\n",
              "      <th>recency</th>\n",
              "      <th>frequency</th>\n",
              "      <th>monetary</th>\n",
              "    </tr>\n",
              "  </thead>\n",
              "  <tbody>\n",
              "    <tr>\n",
              "      <th>0</th>\n",
              "      <td>0.0</td>\n",
              "      <td>92</td>\n",
              "      <td>1109</td>\n",
              "      <td>1101757.36</td>\n",
              "    </tr>\n",
              "    <tr>\n",
              "      <th>1</th>\n",
              "      <td>12346.0</td>\n",
              "      <td>326</td>\n",
              "      <td>1</td>\n",
              "      <td>77183.60</td>\n",
              "    </tr>\n",
              "    <tr>\n",
              "      <th>2</th>\n",
              "      <td>12347.0</td>\n",
              "      <td>130</td>\n",
              "      <td>5</td>\n",
              "      <td>2790.86</td>\n",
              "    </tr>\n",
              "    <tr>\n",
              "      <th>3</th>\n",
              "      <td>12348.0</td>\n",
              "      <td>249</td>\n",
              "      <td>3</td>\n",
              "      <td>1487.24</td>\n",
              "    </tr>\n",
              "    <tr>\n",
              "      <th>4</th>\n",
              "      <td>12350.0</td>\n",
              "      <td>311</td>\n",
              "      <td>1</td>\n",
              "      <td>334.40</td>\n",
              "    </tr>\n",
              "    <tr>\n",
              "      <th>...</th>\n",
              "      <td>...</td>\n",
              "      <td>...</td>\n",
              "      <td>...</td>\n",
              "      <td>...</td>\n",
              "    </tr>\n",
              "    <tr>\n",
              "      <th>3361</th>\n",
              "      <td>18280.0</td>\n",
              "      <td>278</td>\n",
              "      <td>1</td>\n",
              "      <td>180.60</td>\n",
              "    </tr>\n",
              "    <tr>\n",
              "      <th>3362</th>\n",
              "      <td>18281.0</td>\n",
              "      <td>181</td>\n",
              "      <td>1</td>\n",
              "      <td>80.82</td>\n",
              "    </tr>\n",
              "    <tr>\n",
              "      <th>3363</th>\n",
              "      <td>18282.0</td>\n",
              "      <td>127</td>\n",
              "      <td>1</td>\n",
              "      <td>100.21</td>\n",
              "    </tr>\n",
              "    <tr>\n",
              "      <th>3364</th>\n",
              "      <td>18283.0</td>\n",
              "      <td>96</td>\n",
              "      <td>10</td>\n",
              "      <td>1120.67</td>\n",
              "    </tr>\n",
              "    <tr>\n",
              "      <th>3365</th>\n",
              "      <td>18287.0</td>\n",
              "      <td>202</td>\n",
              "      <td>1</td>\n",
              "      <td>765.28</td>\n",
              "    </tr>\n",
              "  </tbody>\n",
              "</table>\n",
              "<p>3366 rows × 4 columns</p>\n",
              "</div>"
            ],
            "text/plain": [
              "      CustomerID  recency  frequency    monetary\n",
              "0            0.0       92       1109  1101757.36\n",
              "1        12346.0      326          1    77183.60\n",
              "2        12347.0      130          5     2790.86\n",
              "3        12348.0      249          3     1487.24\n",
              "4        12350.0      311          1      334.40\n",
              "...          ...      ...        ...         ...\n",
              "3361     18280.0      278          1      180.60\n",
              "3362     18281.0      181          1       80.82\n",
              "3363     18282.0      127          1      100.21\n",
              "3364     18283.0       96         10     1120.67\n",
              "3365     18287.0      202          1      765.28\n",
              "\n",
              "[3366 rows x 4 columns]"
            ]
          },
          "metadata": {
            "tags": []
          },
          "execution_count": 159
        }
      ]
    },
    {
      "cell_type": "markdown",
      "metadata": {
        "id": "5-Ajc_gvlraD"
      },
      "source": [
        "> ## Merging both rfm and orders"
      ]
    },
    {
      "cell_type": "code",
      "metadata": {
        "id": "slVVNsjapId3"
      },
      "source": [
        "## Vectorizing Description\n",
        "# from sklearn.feature_extraction.text import TfidfVectorizer\n",
        "# v = TfidfVectorizer(max_features=500)\n",
        "# v.fit_transform(orders['Description']).toarray()"
      ],
      "execution_count": null,
      "outputs": []
    },
    {
      "cell_type": "code",
      "metadata": {
        "colab": {
          "base_uri": "https://localhost:8080/"
        },
        "id": "45ifmEENoGr7",
        "outputId": "709e716d-ab56-4921-9675-1b0da5a7878d"
      },
      "source": [
        "# first we drop UnitPrice ,country, and stockcode\n",
        "orders_9.drop(['UnitPrice','Country','StockCode','Description','InvoiceDate'],axis=1,inplace=True)\n",
        "orders_9"
      ],
      "execution_count": null,
      "outputs": [
        {
          "output_type": "stream",
          "text": [
            "/usr/local/lib/python3.7/dist-packages/pandas/core/frame.py:4174: SettingWithCopyWarning: \n",
            "A value is trying to be set on a copy of a slice from a DataFrame\n",
            "\n",
            "See the caveats in the documentation: https://pandas.pydata.org/pandas-docs/stable/user_guide/indexing.html#returning-a-view-versus-a-copy\n",
            "  errors=errors,\n"
          ],
          "name": "stderr"
        },
        {
          "output_type": "execute_result",
          "data": {
            "text/html": [
              "<div>\n",
              "<style scoped>\n",
              "    .dataframe tbody tr th:only-of-type {\n",
              "        vertical-align: middle;\n",
              "    }\n",
              "\n",
              "    .dataframe tbody tr th {\n",
              "        vertical-align: top;\n",
              "    }\n",
              "\n",
              "    .dataframe thead th {\n",
              "        text-align: right;\n",
              "    }\n",
              "</style>\n",
              "<table border=\"1\" class=\"dataframe\">\n",
              "  <thead>\n",
              "    <tr style=\"text-align: right;\">\n",
              "      <th></th>\n",
              "      <th>InvoiceNo</th>\n",
              "      <th>CustomerID</th>\n",
              "      <th>Quantity</th>\n",
              "      <th>amount_spent</th>\n",
              "      <th>date</th>\n",
              "      <th>time</th>\n",
              "      <th>month</th>\n",
              "      <th>month_name</th>\n",
              "      <th>is_weekend</th>\n",
              "      <th>hour</th>\n",
              "      <th>part_of_day</th>\n",
              "      <th>day</th>\n",
              "      <th>IsCancelled</th>\n",
              "      <th>TotalPrice</th>\n",
              "    </tr>\n",
              "  </thead>\n",
              "  <tbody>\n",
              "    <tr>\n",
              "      <th>0</th>\n",
              "      <td>536365</td>\n",
              "      <td>17850.0</td>\n",
              "      <td>6</td>\n",
              "      <td>25.50</td>\n",
              "      <td>2010-12-01</td>\n",
              "      <td>08:26:00</td>\n",
              "      <td>12</td>\n",
              "      <td>Dec</td>\n",
              "      <td>0</td>\n",
              "      <td>8</td>\n",
              "      <td>3</td>\n",
              "      <td>1</td>\n",
              "      <td>False</td>\n",
              "      <td>25.50</td>\n",
              "    </tr>\n",
              "    <tr>\n",
              "      <th>1</th>\n",
              "      <td>536365</td>\n",
              "      <td>17850.0</td>\n",
              "      <td>2</td>\n",
              "      <td>15.30</td>\n",
              "      <td>2010-12-01</td>\n",
              "      <td>08:26:00</td>\n",
              "      <td>12</td>\n",
              "      <td>Dec</td>\n",
              "      <td>0</td>\n",
              "      <td>8</td>\n",
              "      <td>3</td>\n",
              "      <td>1</td>\n",
              "      <td>False</td>\n",
              "      <td>15.30</td>\n",
              "    </tr>\n",
              "    <tr>\n",
              "      <th>2</th>\n",
              "      <td>536365</td>\n",
              "      <td>17850.0</td>\n",
              "      <td>6</td>\n",
              "      <td>20.34</td>\n",
              "      <td>2010-12-01</td>\n",
              "      <td>08:26:00</td>\n",
              "      <td>12</td>\n",
              "      <td>Dec</td>\n",
              "      <td>0</td>\n",
              "      <td>8</td>\n",
              "      <td>3</td>\n",
              "      <td>1</td>\n",
              "      <td>False</td>\n",
              "      <td>20.34</td>\n",
              "    </tr>\n",
              "    <tr>\n",
              "      <th>3</th>\n",
              "      <td>536365</td>\n",
              "      <td>17850.0</td>\n",
              "      <td>6</td>\n",
              "      <td>20.34</td>\n",
              "      <td>2010-12-01</td>\n",
              "      <td>08:26:00</td>\n",
              "      <td>12</td>\n",
              "      <td>Dec</td>\n",
              "      <td>0</td>\n",
              "      <td>8</td>\n",
              "      <td>3</td>\n",
              "      <td>1</td>\n",
              "      <td>False</td>\n",
              "      <td>20.34</td>\n",
              "    </tr>\n",
              "    <tr>\n",
              "      <th>4</th>\n",
              "      <td>536365</td>\n",
              "      <td>17850.0</td>\n",
              "      <td>6</td>\n",
              "      <td>20.34</td>\n",
              "      <td>2010-12-01</td>\n",
              "      <td>08:26:00</td>\n",
              "      <td>12</td>\n",
              "      <td>Dec</td>\n",
              "      <td>0</td>\n",
              "      <td>8</td>\n",
              "      <td>3</td>\n",
              "      <td>1</td>\n",
              "      <td>False</td>\n",
              "      <td>20.34</td>\n",
              "    </tr>\n",
              "    <tr>\n",
              "      <th>...</th>\n",
              "      <td>...</td>\n",
              "      <td>...</td>\n",
              "      <td>...</td>\n",
              "      <td>...</td>\n",
              "      <td>...</td>\n",
              "      <td>...</td>\n",
              "      <td>...</td>\n",
              "      <td>...</td>\n",
              "      <td>...</td>\n",
              "      <td>...</td>\n",
              "      <td>...</td>\n",
              "      <td>...</td>\n",
              "      <td>...</td>\n",
              "      <td>...</td>\n",
              "    </tr>\n",
              "    <tr>\n",
              "      <th>328455</th>\n",
              "      <td>566179</td>\n",
              "      <td>0.0</td>\n",
              "      <td>2</td>\n",
              "      <td>5.78</td>\n",
              "      <td>2011-09-09</td>\n",
              "      <td>12:42:00</td>\n",
              "      <td>9</td>\n",
              "      <td>Sep</td>\n",
              "      <td>0</td>\n",
              "      <td>12</td>\n",
              "      <td>4</td>\n",
              "      <td>9</td>\n",
              "      <td>False</td>\n",
              "      <td>5.78</td>\n",
              "    </tr>\n",
              "    <tr>\n",
              "      <th>328456</th>\n",
              "      <td>566179</td>\n",
              "      <td>0.0</td>\n",
              "      <td>5</td>\n",
              "      <td>20.75</td>\n",
              "      <td>2011-09-09</td>\n",
              "      <td>12:42:00</td>\n",
              "      <td>9</td>\n",
              "      <td>Sep</td>\n",
              "      <td>0</td>\n",
              "      <td>12</td>\n",
              "      <td>4</td>\n",
              "      <td>9</td>\n",
              "      <td>False</td>\n",
              "      <td>20.75</td>\n",
              "    </tr>\n",
              "    <tr>\n",
              "      <th>328457</th>\n",
              "      <td>566179</td>\n",
              "      <td>0.0</td>\n",
              "      <td>36</td>\n",
              "      <td>29.88</td>\n",
              "      <td>2011-09-09</td>\n",
              "      <td>12:42:00</td>\n",
              "      <td>9</td>\n",
              "      <td>Sep</td>\n",
              "      <td>0</td>\n",
              "      <td>12</td>\n",
              "      <td>4</td>\n",
              "      <td>9</td>\n",
              "      <td>False</td>\n",
              "      <td>29.88</td>\n",
              "    </tr>\n",
              "    <tr>\n",
              "      <th>328458</th>\n",
              "      <td>566179</td>\n",
              "      <td>0.0</td>\n",
              "      <td>6</td>\n",
              "      <td>4.50</td>\n",
              "      <td>2011-09-09</td>\n",
              "      <td>12:42:00</td>\n",
              "      <td>9</td>\n",
              "      <td>Sep</td>\n",
              "      <td>0</td>\n",
              "      <td>12</td>\n",
              "      <td>4</td>\n",
              "      <td>9</td>\n",
              "      <td>False</td>\n",
              "      <td>4.50</td>\n",
              "    </tr>\n",
              "    <tr>\n",
              "      <th>328459</th>\n",
              "      <td>566179</td>\n",
              "      <td>0.0</td>\n",
              "      <td>3</td>\n",
              "      <td>11.25</td>\n",
              "      <td>2011-09-09</td>\n",
              "      <td>12:42:00</td>\n",
              "      <td>9</td>\n",
              "      <td>Sep</td>\n",
              "      <td>0</td>\n",
              "      <td>12</td>\n",
              "      <td>4</td>\n",
              "      <td>9</td>\n",
              "      <td>False</td>\n",
              "      <td>11.25</td>\n",
              "    </tr>\n",
              "  </tbody>\n",
              "</table>\n",
              "<p>320672 rows × 14 columns</p>\n",
              "</div>"
            ],
            "text/plain": [
              "       InvoiceNo  CustomerID  Quantity  ...  day IsCancelled TotalPrice\n",
              "0         536365     17850.0         6  ...    1       False      25.50\n",
              "1         536365     17850.0         2  ...    1       False      15.30\n",
              "2         536365     17850.0         6  ...    1       False      20.34\n",
              "3         536365     17850.0         6  ...    1       False      20.34\n",
              "4         536365     17850.0         6  ...    1       False      20.34\n",
              "...          ...         ...       ...  ...  ...         ...        ...\n",
              "328455    566179         0.0         2  ...    9       False       5.78\n",
              "328456    566179         0.0         5  ...    9       False      20.75\n",
              "328457    566179         0.0        36  ...    9       False      29.88\n",
              "328458    566179         0.0         6  ...    9       False       4.50\n",
              "328459    566179         0.0         3  ...    9       False      11.25\n",
              "\n",
              "[320672 rows x 14 columns]"
            ]
          },
          "metadata": {
            "tags": []
          },
          "execution_count": 161
        }
      ]
    },
    {
      "cell_type": "code",
      "metadata": {
        "colab": {
          "base_uri": "https://localhost:8080/"
        },
        "id": "u6DliEvWoR0x",
        "outputId": "b125e693-55ee-4542-8feb-1b8f3c91cd8a"
      },
      "source": [
        "orders_cust = orders_9.groupby('InvoiceNo').agg({\n",
        "    'CustomerID':'min','Quantity':'sum'\n",
        "    ,'TotalPrice':'sum', 'is_weekend':'min'}).reset_index().drop('InvoiceNo',axis=1)\n",
        "orders_cust"
      ],
      "execution_count": null,
      "outputs": [
        {
          "output_type": "execute_result",
          "data": {
            "text/html": [
              "<div>\n",
              "<style scoped>\n",
              "    .dataframe tbody tr th:only-of-type {\n",
              "        vertical-align: middle;\n",
              "    }\n",
              "\n",
              "    .dataframe tbody tr th {\n",
              "        vertical-align: top;\n",
              "    }\n",
              "\n",
              "    .dataframe thead th {\n",
              "        text-align: right;\n",
              "    }\n",
              "</style>\n",
              "<table border=\"1\" class=\"dataframe\">\n",
              "  <thead>\n",
              "    <tr style=\"text-align: right;\">\n",
              "      <th></th>\n",
              "      <th>CustomerID</th>\n",
              "      <th>Quantity</th>\n",
              "      <th>TotalPrice</th>\n",
              "      <th>is_weekend</th>\n",
              "    </tr>\n",
              "  </thead>\n",
              "  <tbody>\n",
              "    <tr>\n",
              "      <th>0</th>\n",
              "      <td>17850.0</td>\n",
              "      <td>40</td>\n",
              "      <td>139.12</td>\n",
              "      <td>0</td>\n",
              "    </tr>\n",
              "    <tr>\n",
              "      <th>1</th>\n",
              "      <td>17850.0</td>\n",
              "      <td>12</td>\n",
              "      <td>22.20</td>\n",
              "      <td>0</td>\n",
              "    </tr>\n",
              "    <tr>\n",
              "      <th>2</th>\n",
              "      <td>13047.0</td>\n",
              "      <td>83</td>\n",
              "      <td>278.73</td>\n",
              "      <td>0</td>\n",
              "    </tr>\n",
              "    <tr>\n",
              "      <th>3</th>\n",
              "      <td>13047.0</td>\n",
              "      <td>15</td>\n",
              "      <td>70.05</td>\n",
              "      <td>0</td>\n",
              "    </tr>\n",
              "    <tr>\n",
              "      <th>4</th>\n",
              "      <td>13047.0</td>\n",
              "      <td>3</td>\n",
              "      <td>17.85</td>\n",
              "      <td>0</td>\n",
              "    </tr>\n",
              "    <tr>\n",
              "      <th>...</th>\n",
              "      <td>...</td>\n",
              "      <td>...</td>\n",
              "      <td>...</td>\n",
              "      <td>...</td>\n",
              "    </tr>\n",
              "    <tr>\n",
              "      <th>12982</th>\n",
              "      <td>12787.0</td>\n",
              "      <td>145</td>\n",
              "      <td>186.56</td>\n",
              "      <td>0</td>\n",
              "    </tr>\n",
              "    <tr>\n",
              "      <th>12983</th>\n",
              "      <td>18237.0</td>\n",
              "      <td>104</td>\n",
              "      <td>158.96</td>\n",
              "      <td>0</td>\n",
              "    </tr>\n",
              "    <tr>\n",
              "      <th>12984</th>\n",
              "      <td>16353.0</td>\n",
              "      <td>49</td>\n",
              "      <td>141.90</td>\n",
              "      <td>0</td>\n",
              "    </tr>\n",
              "    <tr>\n",
              "      <th>12985</th>\n",
              "      <td>0.0</td>\n",
              "      <td>233</td>\n",
              "      <td>423.73</td>\n",
              "      <td>0</td>\n",
              "    </tr>\n",
              "    <tr>\n",
              "      <th>12986</th>\n",
              "      <td>0.0</td>\n",
              "      <td>1</td>\n",
              "      <td>11062.06</td>\n",
              "      <td>0</td>\n",
              "    </tr>\n",
              "  </tbody>\n",
              "</table>\n",
              "<p>12987 rows × 4 columns</p>\n",
              "</div>"
            ],
            "text/plain": [
              "       CustomerID  Quantity  TotalPrice  is_weekend\n",
              "0         17850.0        40      139.12           0\n",
              "1         17850.0        12       22.20           0\n",
              "2         13047.0        83      278.73           0\n",
              "3         13047.0        15       70.05           0\n",
              "4         13047.0         3       17.85           0\n",
              "...           ...       ...         ...         ...\n",
              "12982     12787.0       145      186.56           0\n",
              "12983     18237.0       104      158.96           0\n",
              "12984     16353.0        49      141.90           0\n",
              "12985         0.0       233      423.73           0\n",
              "12986         0.0         1    11062.06           0\n",
              "\n",
              "[12987 rows x 4 columns]"
            ]
          },
          "metadata": {
            "tags": []
          },
          "execution_count": 162
        }
      ]
    },
    {
      "cell_type": "code",
      "metadata": {
        "colab": {
          "base_uri": "https://localhost:8080/"
        },
        "id": "ijO2FH26rqN1",
        "outputId": "fc08266c-1b70-4b3e-886c-933e14023224"
      },
      "source": [
        "orders_cust = pd.merge(orders_cust,rfm,left_on='CustomerID',right_on='CustomerID',how='outer')\n",
        "orders_cust"
      ],
      "execution_count": null,
      "outputs": [
        {
          "output_type": "execute_result",
          "data": {
            "text/html": [
              "<div>\n",
              "<style scoped>\n",
              "    .dataframe tbody tr th:only-of-type {\n",
              "        vertical-align: middle;\n",
              "    }\n",
              "\n",
              "    .dataframe tbody tr th {\n",
              "        vertical-align: top;\n",
              "    }\n",
              "\n",
              "    .dataframe thead th {\n",
              "        text-align: right;\n",
              "    }\n",
              "</style>\n",
              "<table border=\"1\" class=\"dataframe\">\n",
              "  <thead>\n",
              "    <tr style=\"text-align: right;\">\n",
              "      <th></th>\n",
              "      <th>CustomerID</th>\n",
              "      <th>Quantity</th>\n",
              "      <th>TotalPrice</th>\n",
              "      <th>is_weekend</th>\n",
              "      <th>recency</th>\n",
              "      <th>frequency</th>\n",
              "      <th>monetary</th>\n",
              "    </tr>\n",
              "  </thead>\n",
              "  <tbody>\n",
              "    <tr>\n",
              "      <th>0</th>\n",
              "      <td>17850.0</td>\n",
              "      <td>40</td>\n",
              "      <td>139.12</td>\n",
              "      <td>0</td>\n",
              "      <td>373</td>\n",
              "      <td>34</td>\n",
              "      <td>5391.21</td>\n",
              "    </tr>\n",
              "    <tr>\n",
              "      <th>1</th>\n",
              "      <td>17850.0</td>\n",
              "      <td>12</td>\n",
              "      <td>22.20</td>\n",
              "      <td>0</td>\n",
              "      <td>373</td>\n",
              "      <td>34</td>\n",
              "      <td>5391.21</td>\n",
              "    </tr>\n",
              "    <tr>\n",
              "      <th>2</th>\n",
              "      <td>17850.0</td>\n",
              "      <td>12</td>\n",
              "      <td>22.20</td>\n",
              "      <td>0</td>\n",
              "      <td>373</td>\n",
              "      <td>34</td>\n",
              "      <td>5391.21</td>\n",
              "    </tr>\n",
              "    <tr>\n",
              "      <th>3</th>\n",
              "      <td>17850.0</td>\n",
              "      <td>88</td>\n",
              "      <td>259.86</td>\n",
              "      <td>0</td>\n",
              "      <td>373</td>\n",
              "      <td>34</td>\n",
              "      <td>5391.21</td>\n",
              "    </tr>\n",
              "    <tr>\n",
              "      <th>4</th>\n",
              "      <td>17850.0</td>\n",
              "      <td>88</td>\n",
              "      <td>259.86</td>\n",
              "      <td>0</td>\n",
              "      <td>373</td>\n",
              "      <td>34</td>\n",
              "      <td>5391.21</td>\n",
              "    </tr>\n",
              "    <tr>\n",
              "      <th>...</th>\n",
              "      <td>...</td>\n",
              "      <td>...</td>\n",
              "      <td>...</td>\n",
              "      <td>...</td>\n",
              "      <td>...</td>\n",
              "      <td>...</td>\n",
              "      <td>...</td>\n",
              "    </tr>\n",
              "    <tr>\n",
              "      <th>12982</th>\n",
              "      <td>13244.0</td>\n",
              "      <td>38</td>\n",
              "      <td>121.74</td>\n",
              "      <td>0</td>\n",
              "      <td>93</td>\n",
              "      <td>1</td>\n",
              "      <td>121.74</td>\n",
              "    </tr>\n",
              "    <tr>\n",
              "      <th>12983</th>\n",
              "      <td>17004.0</td>\n",
              "      <td>602</td>\n",
              "      <td>1006.40</td>\n",
              "      <td>0</td>\n",
              "      <td>93</td>\n",
              "      <td>1</td>\n",
              "      <td>1006.40</td>\n",
              "    </tr>\n",
              "    <tr>\n",
              "      <th>12984</th>\n",
              "      <td>13441.0</td>\n",
              "      <td>204</td>\n",
              "      <td>296.64</td>\n",
              "      <td>0</td>\n",
              "      <td>92</td>\n",
              "      <td>1</td>\n",
              "      <td>296.64</td>\n",
              "    </tr>\n",
              "    <tr>\n",
              "      <th>12985</th>\n",
              "      <td>13823.0</td>\n",
              "      <td>325</td>\n",
              "      <td>650.42</td>\n",
              "      <td>0</td>\n",
              "      <td>92</td>\n",
              "      <td>1</td>\n",
              "      <td>650.42</td>\n",
              "    </tr>\n",
              "    <tr>\n",
              "      <th>12986</th>\n",
              "      <td>12879.0</td>\n",
              "      <td>58</td>\n",
              "      <td>140.50</td>\n",
              "      <td>0</td>\n",
              "      <td>92</td>\n",
              "      <td>1</td>\n",
              "      <td>140.50</td>\n",
              "    </tr>\n",
              "  </tbody>\n",
              "</table>\n",
              "<p>12987 rows × 7 columns</p>\n",
              "</div>"
            ],
            "text/plain": [
              "       CustomerID  Quantity  TotalPrice  ...  recency  frequency  monetary\n",
              "0         17850.0        40      139.12  ...      373         34   5391.21\n",
              "1         17850.0        12       22.20  ...      373         34   5391.21\n",
              "2         17850.0        12       22.20  ...      373         34   5391.21\n",
              "3         17850.0        88      259.86  ...      373         34   5391.21\n",
              "4         17850.0        88      259.86  ...      373         34   5391.21\n",
              "...           ...       ...         ...  ...      ...        ...       ...\n",
              "12982     13244.0        38      121.74  ...       93          1    121.74\n",
              "12983     17004.0       602     1006.40  ...       93          1   1006.40\n",
              "12984     13441.0       204      296.64  ...       92          1    296.64\n",
              "12985     13823.0       325      650.42  ...       92          1    650.42\n",
              "12986     12879.0        58      140.50  ...       92          1    140.50\n",
              "\n",
              "[12987 rows x 7 columns]"
            ]
          },
          "metadata": {
            "tags": []
          },
          "execution_count": 163
        }
      ]
    },
    {
      "cell_type": "code",
      "metadata": {
        "id": "Vry5ZT6Xs0HF"
      },
      "source": [
        "# Already represented in monetary\n",
        "orders_cust.drop('TotalPrice',axis=1,inplace=True)"
      ],
      "execution_count": null,
      "outputs": []
    },
    {
      "cell_type": "code",
      "metadata": {
        "colab": {
          "base_uri": "https://localhost:8080/"
        },
        "id": "ML6okZ1h2XFH",
        "outputId": "93f09e59-98eb-4f57-eed6-52cf32f6e0a4"
      },
      "source": [
        "# Average in is_weekend flag will represent the percentage of weekend orders to total orders\n",
        "orders_cust = orders_cust.groupby('CustomerID').agg({\n",
        "    'is_weekend':'mean','frequency':'min'\n",
        "    ,'monetary':'min', 'recency':'min',\n",
        "    'Quantity':'sum'\n",
        "})\n",
        "orders_cust"
      ],
      "execution_count": null,
      "outputs": [
        {
          "output_type": "execute_result",
          "data": {
            "text/html": [
              "<div>\n",
              "<style scoped>\n",
              "    .dataframe tbody tr th:only-of-type {\n",
              "        vertical-align: middle;\n",
              "    }\n",
              "\n",
              "    .dataframe tbody tr th {\n",
              "        vertical-align: top;\n",
              "    }\n",
              "\n",
              "    .dataframe thead th {\n",
              "        text-align: right;\n",
              "    }\n",
              "</style>\n",
              "<table border=\"1\" class=\"dataframe\">\n",
              "  <thead>\n",
              "    <tr style=\"text-align: right;\">\n",
              "      <th></th>\n",
              "      <th>is_weekend</th>\n",
              "      <th>frequency</th>\n",
              "      <th>monetary</th>\n",
              "      <th>recency</th>\n",
              "      <th>Quantity</th>\n",
              "    </tr>\n",
              "    <tr>\n",
              "      <th>CustomerID</th>\n",
              "      <th></th>\n",
              "      <th></th>\n",
              "      <th></th>\n",
              "      <th></th>\n",
              "      <th></th>\n",
              "    </tr>\n",
              "  </thead>\n",
              "  <tbody>\n",
              "    <tr>\n",
              "      <th>0.0</th>\n",
              "      <td>0.018936</td>\n",
              "      <td>1109</td>\n",
              "      <td>1101757.36</td>\n",
              "      <td>92</td>\n",
              "      <td>262018</td>\n",
              "    </tr>\n",
              "    <tr>\n",
              "      <th>12346.0</th>\n",
              "      <td>0.000000</td>\n",
              "      <td>1</td>\n",
              "      <td>77183.60</td>\n",
              "      <td>326</td>\n",
              "      <td>74215</td>\n",
              "    </tr>\n",
              "    <tr>\n",
              "      <th>12347.0</th>\n",
              "      <td>0.000000</td>\n",
              "      <td>5</td>\n",
              "      <td>2790.86</td>\n",
              "      <td>130</td>\n",
              "      <td>1590</td>\n",
              "    </tr>\n",
              "    <tr>\n",
              "      <th>12348.0</th>\n",
              "      <td>0.000000</td>\n",
              "      <td>3</td>\n",
              "      <td>1487.24</td>\n",
              "      <td>249</td>\n",
              "      <td>2124</td>\n",
              "    </tr>\n",
              "    <tr>\n",
              "      <th>12350.0</th>\n",
              "      <td>0.000000</td>\n",
              "      <td>1</td>\n",
              "      <td>334.40</td>\n",
              "      <td>311</td>\n",
              "      <td>197</td>\n",
              "    </tr>\n",
              "    <tr>\n",
              "      <th>...</th>\n",
              "      <td>...</td>\n",
              "      <td>...</td>\n",
              "      <td>...</td>\n",
              "      <td>...</td>\n",
              "      <td>...</td>\n",
              "    </tr>\n",
              "    <tr>\n",
              "      <th>18280.0</th>\n",
              "      <td>0.000000</td>\n",
              "      <td>1</td>\n",
              "      <td>180.60</td>\n",
              "      <td>278</td>\n",
              "      <td>45</td>\n",
              "    </tr>\n",
              "    <tr>\n",
              "      <th>18281.0</th>\n",
              "      <td>1.000000</td>\n",
              "      <td>1</td>\n",
              "      <td>80.82</td>\n",
              "      <td>181</td>\n",
              "      <td>54</td>\n",
              "    </tr>\n",
              "    <tr>\n",
              "      <th>18282.0</th>\n",
              "      <td>0.000000</td>\n",
              "      <td>1</td>\n",
              "      <td>100.21</td>\n",
              "      <td>127</td>\n",
              "      <td>75</td>\n",
              "    </tr>\n",
              "    <tr>\n",
              "      <th>18283.0</th>\n",
              "      <td>0.100000</td>\n",
              "      <td>10</td>\n",
              "      <td>1120.67</td>\n",
              "      <td>96</td>\n",
              "      <td>742</td>\n",
              "    </tr>\n",
              "    <tr>\n",
              "      <th>18287.0</th>\n",
              "      <td>1.000000</td>\n",
              "      <td>1</td>\n",
              "      <td>765.28</td>\n",
              "      <td>202</td>\n",
              "      <td>488</td>\n",
              "    </tr>\n",
              "  </tbody>\n",
              "</table>\n",
              "<p>3366 rows × 5 columns</p>\n",
              "</div>"
            ],
            "text/plain": [
              "            is_weekend  frequency    monetary  recency  Quantity\n",
              "CustomerID                                                      \n",
              "0.0           0.018936       1109  1101757.36       92    262018\n",
              "12346.0       0.000000          1    77183.60      326     74215\n",
              "12347.0       0.000000          5     2790.86      130      1590\n",
              "12348.0       0.000000          3     1487.24      249      2124\n",
              "12350.0       0.000000          1      334.40      311       197\n",
              "...                ...        ...         ...      ...       ...\n",
              "18280.0       0.000000          1      180.60      278        45\n",
              "18281.0       1.000000          1       80.82      181        54\n",
              "18282.0       0.000000          1      100.21      127        75\n",
              "18283.0       0.100000         10     1120.67       96       742\n",
              "18287.0       1.000000          1      765.28      202       488\n",
              "\n",
              "[3366 rows x 5 columns]"
            ]
          },
          "metadata": {
            "tags": []
          },
          "execution_count": 165
        }
      ]
    },
    {
      "cell_type": "code",
      "metadata": {
        "colab": {
          "base_uri": "https://localhost:8080/"
        },
        "id": "CXSt9j0oSeft",
        "outputId": "bbf62e26-7adb-47c7-cbc1-b46663b40089"
      },
      "source": [
        "orders_cust = orders_cust.reset_index()\n",
        "orders_cust"
      ],
      "execution_count": null,
      "outputs": [
        {
          "output_type": "execute_result",
          "data": {
            "text/html": [
              "<div>\n",
              "<style scoped>\n",
              "    .dataframe tbody tr th:only-of-type {\n",
              "        vertical-align: middle;\n",
              "    }\n",
              "\n",
              "    .dataframe tbody tr th {\n",
              "        vertical-align: top;\n",
              "    }\n",
              "\n",
              "    .dataframe thead th {\n",
              "        text-align: right;\n",
              "    }\n",
              "</style>\n",
              "<table border=\"1\" class=\"dataframe\">\n",
              "  <thead>\n",
              "    <tr style=\"text-align: right;\">\n",
              "      <th></th>\n",
              "      <th>CustomerID</th>\n",
              "      <th>is_weekend</th>\n",
              "      <th>frequency</th>\n",
              "      <th>monetary</th>\n",
              "      <th>recency</th>\n",
              "      <th>Quantity</th>\n",
              "    </tr>\n",
              "  </thead>\n",
              "  <tbody>\n",
              "    <tr>\n",
              "      <th>0</th>\n",
              "      <td>0.0</td>\n",
              "      <td>0.018936</td>\n",
              "      <td>1109</td>\n",
              "      <td>1101757.36</td>\n",
              "      <td>92</td>\n",
              "      <td>262018</td>\n",
              "    </tr>\n",
              "    <tr>\n",
              "      <th>1</th>\n",
              "      <td>12346.0</td>\n",
              "      <td>0.000000</td>\n",
              "      <td>1</td>\n",
              "      <td>77183.60</td>\n",
              "      <td>326</td>\n",
              "      <td>74215</td>\n",
              "    </tr>\n",
              "    <tr>\n",
              "      <th>2</th>\n",
              "      <td>12347.0</td>\n",
              "      <td>0.000000</td>\n",
              "      <td>5</td>\n",
              "      <td>2790.86</td>\n",
              "      <td>130</td>\n",
              "      <td>1590</td>\n",
              "    </tr>\n",
              "    <tr>\n",
              "      <th>3</th>\n",
              "      <td>12348.0</td>\n",
              "      <td>0.000000</td>\n",
              "      <td>3</td>\n",
              "      <td>1487.24</td>\n",
              "      <td>249</td>\n",
              "      <td>2124</td>\n",
              "    </tr>\n",
              "    <tr>\n",
              "      <th>4</th>\n",
              "      <td>12350.0</td>\n",
              "      <td>0.000000</td>\n",
              "      <td>1</td>\n",
              "      <td>334.40</td>\n",
              "      <td>311</td>\n",
              "      <td>197</td>\n",
              "    </tr>\n",
              "    <tr>\n",
              "      <th>...</th>\n",
              "      <td>...</td>\n",
              "      <td>...</td>\n",
              "      <td>...</td>\n",
              "      <td>...</td>\n",
              "      <td>...</td>\n",
              "      <td>...</td>\n",
              "    </tr>\n",
              "    <tr>\n",
              "      <th>3361</th>\n",
              "      <td>18280.0</td>\n",
              "      <td>0.000000</td>\n",
              "      <td>1</td>\n",
              "      <td>180.60</td>\n",
              "      <td>278</td>\n",
              "      <td>45</td>\n",
              "    </tr>\n",
              "    <tr>\n",
              "      <th>3362</th>\n",
              "      <td>18281.0</td>\n",
              "      <td>1.000000</td>\n",
              "      <td>1</td>\n",
              "      <td>80.82</td>\n",
              "      <td>181</td>\n",
              "      <td>54</td>\n",
              "    </tr>\n",
              "    <tr>\n",
              "      <th>3363</th>\n",
              "      <td>18282.0</td>\n",
              "      <td>0.000000</td>\n",
              "      <td>1</td>\n",
              "      <td>100.21</td>\n",
              "      <td>127</td>\n",
              "      <td>75</td>\n",
              "    </tr>\n",
              "    <tr>\n",
              "      <th>3364</th>\n",
              "      <td>18283.0</td>\n",
              "      <td>0.100000</td>\n",
              "      <td>10</td>\n",
              "      <td>1120.67</td>\n",
              "      <td>96</td>\n",
              "      <td>742</td>\n",
              "    </tr>\n",
              "    <tr>\n",
              "      <th>3365</th>\n",
              "      <td>18287.0</td>\n",
              "      <td>1.000000</td>\n",
              "      <td>1</td>\n",
              "      <td>765.28</td>\n",
              "      <td>202</td>\n",
              "      <td>488</td>\n",
              "    </tr>\n",
              "  </tbody>\n",
              "</table>\n",
              "<p>3366 rows × 6 columns</p>\n",
              "</div>"
            ],
            "text/plain": [
              "      CustomerID  is_weekend  frequency    monetary  recency  Quantity\n",
              "0            0.0    0.018936       1109  1101757.36       92    262018\n",
              "1        12346.0    0.000000          1    77183.60      326     74215\n",
              "2        12347.0    0.000000          5     2790.86      130      1590\n",
              "3        12348.0    0.000000          3     1487.24      249      2124\n",
              "4        12350.0    0.000000          1      334.40      311       197\n",
              "...          ...         ...        ...         ...      ...       ...\n",
              "3361     18280.0    0.000000          1      180.60      278        45\n",
              "3362     18281.0    1.000000          1       80.82      181        54\n",
              "3363     18282.0    0.000000          1      100.21      127        75\n",
              "3364     18283.0    0.100000         10     1120.67       96       742\n",
              "3365     18287.0    1.000000          1      765.28      202       488\n",
              "\n",
              "[3366 rows x 6 columns]"
            ]
          },
          "metadata": {
            "tags": []
          },
          "execution_count": 166
        }
      ]
    },
    {
      "cell_type": "markdown",
      "metadata": {
        "id": "Qr_ocooTQJJB"
      },
      "source": [
        "> ## Labelling"
      ]
    },
    {
      "cell_type": "code",
      "metadata": {
        "colab": {
          "base_uri": "https://localhost:8080/",
          "height": 415
        },
        "id": "OWoZIQv6QKs2",
        "outputId": "23adcb99-a893-44c3-f23d-7cac9bbed659"
      },
      "source": [
        "orders_3 = pd.DataFrame(orders_3['CustomerID'].unique())\n",
        "orders_3['label'] = 1\n",
        "orders_3.columns = ['CustomerID','label']\n",
        "orders_3"
      ],
      "execution_count": null,
      "outputs": [
        {
          "output_type": "execute_result",
          "data": {
            "text/html": [
              "<div>\n",
              "<style scoped>\n",
              "    .dataframe tbody tr th:only-of-type {\n",
              "        vertical-align: middle;\n",
              "    }\n",
              "\n",
              "    .dataframe tbody tr th {\n",
              "        vertical-align: top;\n",
              "    }\n",
              "\n",
              "    .dataframe thead th {\n",
              "        text-align: right;\n",
              "    }\n",
              "</style>\n",
              "<table border=\"1\" class=\"dataframe\">\n",
              "  <thead>\n",
              "    <tr style=\"text-align: right;\">\n",
              "      <th></th>\n",
              "      <th>CustomerID</th>\n",
              "      <th>label</th>\n",
              "    </tr>\n",
              "  </thead>\n",
              "  <tbody>\n",
              "    <tr>\n",
              "      <th>0</th>\n",
              "      <td>16173.0</td>\n",
              "      <td>1</td>\n",
              "    </tr>\n",
              "    <tr>\n",
              "      <th>1</th>\n",
              "      <td>14243.0</td>\n",
              "      <td>1</td>\n",
              "    </tr>\n",
              "    <tr>\n",
              "      <th>2</th>\n",
              "      <td>14210.0</td>\n",
              "      <td>1</td>\n",
              "    </tr>\n",
              "    <tr>\n",
              "      <th>3</th>\n",
              "      <td>14837.0</td>\n",
              "      <td>1</td>\n",
              "    </tr>\n",
              "    <tr>\n",
              "      <th>4</th>\n",
              "      <td>16723.0</td>\n",
              "      <td>1</td>\n",
              "    </tr>\n",
              "    <tr>\n",
              "      <th>...</th>\n",
              "      <td>...</td>\n",
              "      <td>...</td>\n",
              "    </tr>\n",
              "    <tr>\n",
              "      <th>2918</th>\n",
              "      <td>13404.0</td>\n",
              "      <td>1</td>\n",
              "    </tr>\n",
              "    <tr>\n",
              "      <th>2919</th>\n",
              "      <td>13077.0</td>\n",
              "      <td>1</td>\n",
              "    </tr>\n",
              "    <tr>\n",
              "      <th>2920</th>\n",
              "      <td>16446.0</td>\n",
              "      <td>1</td>\n",
              "    </tr>\n",
              "    <tr>\n",
              "      <th>2921</th>\n",
              "      <td>12423.0</td>\n",
              "      <td>1</td>\n",
              "    </tr>\n",
              "    <tr>\n",
              "      <th>2922</th>\n",
              "      <td>12713.0</td>\n",
              "      <td>1</td>\n",
              "    </tr>\n",
              "  </tbody>\n",
              "</table>\n",
              "<p>2923 rows × 2 columns</p>\n",
              "</div>"
            ],
            "text/plain": [
              "      CustomerID  label\n",
              "0        16173.0      1\n",
              "1        14243.0      1\n",
              "2        14210.0      1\n",
              "3        14837.0      1\n",
              "4        16723.0      1\n",
              "...          ...    ...\n",
              "2918     13404.0      1\n",
              "2919     13077.0      1\n",
              "2920     16446.0      1\n",
              "2921     12423.0      1\n",
              "2922     12713.0      1\n",
              "\n",
              "[2923 rows x 2 columns]"
            ]
          },
          "metadata": {
            "tags": []
          },
          "execution_count": 167
        }
      ]
    },
    {
      "cell_type": "code",
      "metadata": {
        "colab": {
          "base_uri": "https://localhost:8080/"
        },
        "id": "N6U2hVHXSL_S",
        "outputId": "4414286b-dbc7-44ea-fdfa-3a9e25f15a88"
      },
      "source": [
        "pd.merge(orders_cust,orders_3,left_on ='CustomerID',right_on='CustomerID',how='left')['label'].fillna(0).value_counts()"
      ],
      "execution_count": null,
      "outputs": [
        {
          "output_type": "execute_result",
          "data": {
            "text/plain": [
              "1.0    1946\n",
              "0.0    1420\n",
              "Name: label, dtype: int64"
            ]
          },
          "metadata": {
            "tags": []
          },
          "execution_count": 168
        }
      ]
    },
    {
      "cell_type": "code",
      "metadata": {
        "colab": {
          "base_uri": "https://localhost:8080/",
          "height": 415
        },
        "id": "yl0QeT3vUz8s",
        "outputId": "4b66d792-2149-4ad2-d44c-f0d3e10583eb"
      },
      "source": [
        "orders_cust = pd.merge(orders_cust,orders_3,left_on ='CustomerID',right_on='CustomerID',how='left').fillna(0)\n",
        "orders_cust"
      ],
      "execution_count": null,
      "outputs": [
        {
          "output_type": "execute_result",
          "data": {
            "text/html": [
              "<div>\n",
              "<style scoped>\n",
              "    .dataframe tbody tr th:only-of-type {\n",
              "        vertical-align: middle;\n",
              "    }\n",
              "\n",
              "    .dataframe tbody tr th {\n",
              "        vertical-align: top;\n",
              "    }\n",
              "\n",
              "    .dataframe thead th {\n",
              "        text-align: right;\n",
              "    }\n",
              "</style>\n",
              "<table border=\"1\" class=\"dataframe\">\n",
              "  <thead>\n",
              "    <tr style=\"text-align: right;\">\n",
              "      <th></th>\n",
              "      <th>CustomerID</th>\n",
              "      <th>is_weekend</th>\n",
              "      <th>frequency</th>\n",
              "      <th>monetary</th>\n",
              "      <th>recency</th>\n",
              "      <th>Quantity</th>\n",
              "      <th>label</th>\n",
              "    </tr>\n",
              "  </thead>\n",
              "  <tbody>\n",
              "    <tr>\n",
              "      <th>0</th>\n",
              "      <td>0.0</td>\n",
              "      <td>0.018936</td>\n",
              "      <td>1109</td>\n",
              "      <td>1101757.36</td>\n",
              "      <td>92</td>\n",
              "      <td>262018</td>\n",
              "      <td>1.0</td>\n",
              "    </tr>\n",
              "    <tr>\n",
              "      <th>1</th>\n",
              "      <td>12346.0</td>\n",
              "      <td>0.000000</td>\n",
              "      <td>1</td>\n",
              "      <td>77183.60</td>\n",
              "      <td>326</td>\n",
              "      <td>74215</td>\n",
              "      <td>0.0</td>\n",
              "    </tr>\n",
              "    <tr>\n",
              "      <th>2</th>\n",
              "      <td>12347.0</td>\n",
              "      <td>0.000000</td>\n",
              "      <td>5</td>\n",
              "      <td>2790.86</td>\n",
              "      <td>130</td>\n",
              "      <td>1590</td>\n",
              "      <td>1.0</td>\n",
              "    </tr>\n",
              "    <tr>\n",
              "      <th>3</th>\n",
              "      <td>12348.0</td>\n",
              "      <td>0.000000</td>\n",
              "      <td>3</td>\n",
              "      <td>1487.24</td>\n",
              "      <td>249</td>\n",
              "      <td>2124</td>\n",
              "      <td>1.0</td>\n",
              "    </tr>\n",
              "    <tr>\n",
              "      <th>4</th>\n",
              "      <td>12350.0</td>\n",
              "      <td>0.000000</td>\n",
              "      <td>1</td>\n",
              "      <td>334.40</td>\n",
              "      <td>311</td>\n",
              "      <td>197</td>\n",
              "      <td>0.0</td>\n",
              "    </tr>\n",
              "    <tr>\n",
              "      <th>...</th>\n",
              "      <td>...</td>\n",
              "      <td>...</td>\n",
              "      <td>...</td>\n",
              "      <td>...</td>\n",
              "      <td>...</td>\n",
              "      <td>...</td>\n",
              "      <td>...</td>\n",
              "    </tr>\n",
              "    <tr>\n",
              "      <th>3361</th>\n",
              "      <td>18280.0</td>\n",
              "      <td>0.000000</td>\n",
              "      <td>1</td>\n",
              "      <td>180.60</td>\n",
              "      <td>278</td>\n",
              "      <td>45</td>\n",
              "      <td>0.0</td>\n",
              "    </tr>\n",
              "    <tr>\n",
              "      <th>3362</th>\n",
              "      <td>18281.0</td>\n",
              "      <td>1.000000</td>\n",
              "      <td>1</td>\n",
              "      <td>80.82</td>\n",
              "      <td>181</td>\n",
              "      <td>54</td>\n",
              "      <td>0.0</td>\n",
              "    </tr>\n",
              "    <tr>\n",
              "      <th>3363</th>\n",
              "      <td>18282.0</td>\n",
              "      <td>0.000000</td>\n",
              "      <td>1</td>\n",
              "      <td>100.21</td>\n",
              "      <td>127</td>\n",
              "      <td>75</td>\n",
              "      <td>1.0</td>\n",
              "    </tr>\n",
              "    <tr>\n",
              "      <th>3364</th>\n",
              "      <td>18283.0</td>\n",
              "      <td>0.100000</td>\n",
              "      <td>10</td>\n",
              "      <td>1120.67</td>\n",
              "      <td>96</td>\n",
              "      <td>742</td>\n",
              "      <td>1.0</td>\n",
              "    </tr>\n",
              "    <tr>\n",
              "      <th>3365</th>\n",
              "      <td>18287.0</td>\n",
              "      <td>1.000000</td>\n",
              "      <td>1</td>\n",
              "      <td>765.28</td>\n",
              "      <td>202</td>\n",
              "      <td>488</td>\n",
              "      <td>1.0</td>\n",
              "    </tr>\n",
              "  </tbody>\n",
              "</table>\n",
              "<p>3366 rows × 7 columns</p>\n",
              "</div>"
            ],
            "text/plain": [
              "      CustomerID  is_weekend  frequency    monetary  recency  Quantity  label\n",
              "0            0.0    0.018936       1109  1101757.36       92    262018    1.0\n",
              "1        12346.0    0.000000          1    77183.60      326     74215    0.0\n",
              "2        12347.0    0.000000          5     2790.86      130      1590    1.0\n",
              "3        12348.0    0.000000          3     1487.24      249      2124    1.0\n",
              "4        12350.0    0.000000          1      334.40      311       197    0.0\n",
              "...          ...         ...        ...         ...      ...       ...    ...\n",
              "3361     18280.0    0.000000          1      180.60      278        45    0.0\n",
              "3362     18281.0    1.000000          1       80.82      181        54    0.0\n",
              "3363     18282.0    0.000000          1      100.21      127        75    1.0\n",
              "3364     18283.0    0.100000         10     1120.67       96       742    1.0\n",
              "3365     18287.0    1.000000          1      765.28      202       488    1.0\n",
              "\n",
              "[3366 rows x 7 columns]"
            ]
          },
          "metadata": {
            "tags": []
          },
          "execution_count": 169
        }
      ]
    },
    {
      "cell_type": "code",
      "metadata": {
        "colab": {
          "base_uri": "https://localhost:8080/"
        },
        "id": "oJwP4g0SUSAn",
        "outputId": "f07d3c1a-33e7-4232-ab76-4b188825d98f"
      },
      "source": [
        "orders_cust['label'].value_counts()"
      ],
      "execution_count": null,
      "outputs": [
        {
          "output_type": "execute_result",
          "data": {
            "text/plain": [
              "1.0    1946\n",
              "0.0    1420\n",
              "Name: label, dtype: int64"
            ]
          },
          "metadata": {
            "tags": []
          },
          "execution_count": 170
        }
      ]
    },
    {
      "cell_type": "markdown",
      "metadata": {
        "id": "PL9ZTUmEmP0k"
      },
      "source": [
        "## Step 3: Modelling"
      ]
    },
    {
      "cell_type": "markdown",
      "metadata": {
        "id": "E1ee0VvCUUSX"
      },
      "source": [
        "### Splitting Data"
      ]
    },
    {
      "cell_type": "code",
      "metadata": {
        "colab": {
          "base_uri": "https://localhost:8080/"
        },
        "id": "t_CvcmGIbLdX",
        "outputId": "d0c41899-fbf0-4245-f273-845376d034fb"
      },
      "source": [
        "orders_cust.columns"
      ],
      "execution_count": null,
      "outputs": [
        {
          "output_type": "execute_result",
          "data": {
            "text/plain": [
              "Index(['CustomerID', 'is_weekend', 'frequency', 'monetary', 'recency',\n",
              "       'Quantity', 'label'],\n",
              "      dtype='object')"
            ]
          },
          "metadata": {
            "tags": []
          },
          "execution_count": 63
        }
      ]
    },
    {
      "cell_type": "code",
      "metadata": {
        "id": "TRmAUbY5id9p"
      },
      "source": [
        "import numpy as np\n",
        "from sklearn.model_selection import train_test_split\n",
        "\n",
        "x_train, x_test, y_train, y_test = train_test_split(\n",
        "     orders_cust[['CustomerID', 'is_weekend', 'frequency', 'monetary', 'recency',\n",
        "       'Quantity']], orders_cust['label'], test_size=0.33, random_state=42)"
      ],
      "execution_count": null,
      "outputs": []
    },
    {
      "cell_type": "markdown",
      "metadata": {
        "id": "5Op9j1o3950T"
      },
      "source": [
        "###Normalization"
      ]
    },
    {
      "cell_type": "code",
      "metadata": {
        "id": "C8mOu8fF9Ifu"
      },
      "source": [
        "from sklearn import preprocessing\n",
        "\n",
        "min_max_scaler = preprocessing.MinMaxScaler()\n",
        "x_train[['frequency', 'monetary', 'recency', 'Quantity']] = min_max_scaler.fit_transform(x_train[['frequency', 'monetary', 'recency', 'Quantity']])\n",
        "x_test[['frequency', 'monetary', 'recency', 'Quantity']] = min_max_scaler.transform(x_test[['frequency', 'monetary', 'recency', 'Quantity']])"
      ],
      "execution_count": null,
      "outputs": []
    },
    {
      "cell_type": "code",
      "metadata": {
        "id": "qn5qLpgTi-3C"
      },
      "source": [
        ""
      ],
      "execution_count": null,
      "outputs": []
    },
    {
      "cell_type": "markdown",
      "metadata": {
        "id": "4c8MMzWri_Rb"
      },
      "source": [
        "## Step 3: Modelling"
      ]
    },
    {
      "cell_type": "markdown",
      "metadata": {
        "id": "PPgwWJEwi_Rb"
      },
      "source": [
        "### Splitting Data"
      ]
    },
    {
      "cell_type": "code",
      "metadata": {
        "colab": {
          "base_uri": "https://localhost:8080/"
        },
        "id": "keVUyp9ai_Rb",
        "outputId": "d0c41899-fbf0-4245-f273-845376d034fb"
      },
      "source": [
        "orders_cust.columns"
      ],
      "execution_count": null,
      "outputs": [
        {
          "output_type": "execute_result",
          "data": {
            "text/plain": [
              "Index(['CustomerID', 'is_weekend', 'frequency', 'monetary', 'recency',\n",
              "       'Quantity', 'label'],\n",
              "      dtype='object')"
            ]
          },
          "metadata": {
            "tags": []
          },
          "execution_count": 63
        }
      ]
    },
    {
      "cell_type": "code",
      "metadata": {
        "id": "BYBUKhY-V4mC"
      },
      "source": [
        "import numpy as np\n",
        "from sklearn.model_selection import train_test_split\n",
        "\n",
        "x_train, x_test, y_train, y_test = train_test_split(\n",
        "     orders_cust[['CustomerID', 'is_weekend', 'frequency', 'monetary', 'recency',\n",
        "       'Quantity']], orders_cust['label'], test_size=0.33, random_state=42)"
      ],
      "execution_count": null,
      "outputs": []
    },
    {
      "cell_type": "markdown",
      "metadata": {
        "id": "baHLc75Li_Rc"
      },
      "source": [
        "###Normalization"
      ]
    },
    {
      "cell_type": "code",
      "metadata": {
        "colab": {
          "base_uri": "https://localhost:8080/",
          "height": 419
        },
        "id": "koMowbn1eXMK",
        "outputId": "dbe33529-a013-424a-b0c1-9d38d4df862f"
      },
      "source": [
        "x_test"
      ],
      "execution_count": null,
      "outputs": [
        {
          "output_type": "execute_result",
          "data": {
            "text/html": [
              "<div>\n",
              "<style scoped>\n",
              "    .dataframe tbody tr th:only-of-type {\n",
              "        vertical-align: middle;\n",
              "    }\n",
              "\n",
              "    .dataframe tbody tr th {\n",
              "        vertical-align: top;\n",
              "    }\n",
              "\n",
              "    .dataframe thead th {\n",
              "        text-align: right;\n",
              "    }\n",
              "</style>\n",
              "<table border=\"1\" class=\"dataframe\">\n",
              "  <thead>\n",
              "    <tr style=\"text-align: right;\">\n",
              "      <th></th>\n",
              "      <th>CustomerID</th>\n",
              "      <th>is_weekend</th>\n",
              "      <th>frequency</th>\n",
              "      <th>monetary</th>\n",
              "      <th>recency</th>\n",
              "      <th>Quantity</th>\n",
              "    </tr>\n",
              "  </thead>\n",
              "  <tbody>\n",
              "    <tr>\n",
              "      <th>1116</th>\n",
              "      <td>14259.0</td>\n",
              "      <td>0.000000</td>\n",
              "      <td>1</td>\n",
              "      <td>120.00</td>\n",
              "      <td>140</td>\n",
              "      <td>68</td>\n",
              "    </tr>\n",
              "    <tr>\n",
              "      <th>2358</th>\n",
              "      <td>16469.0</td>\n",
              "      <td>0.000000</td>\n",
              "      <td>2</td>\n",
              "      <td>276.88</td>\n",
              "      <td>245</td>\n",
              "      <td>114</td>\n",
              "    </tr>\n",
              "    <tr>\n",
              "      <th>807</th>\n",
              "      <td>13726.0</td>\n",
              "      <td>0.000000</td>\n",
              "      <td>1</td>\n",
              "      <td>292.68</td>\n",
              "      <td>99</td>\n",
              "      <td>384</td>\n",
              "    </tr>\n",
              "    <tr>\n",
              "      <th>2700</th>\n",
              "      <td>17085.0</td>\n",
              "      <td>0.600000</td>\n",
              "      <td>5</td>\n",
              "      <td>1566.65</td>\n",
              "      <td>122</td>\n",
              "      <td>786</td>\n",
              "    </tr>\n",
              "    <tr>\n",
              "      <th>196</th>\n",
              "      <td>12664.0</td>\n",
              "      <td>0.000000</td>\n",
              "      <td>3</td>\n",
              "      <td>1957.48</td>\n",
              "      <td>142</td>\n",
              "      <td>505</td>\n",
              "    </tr>\n",
              "    <tr>\n",
              "      <th>...</th>\n",
              "      <td>...</td>\n",
              "      <td>...</td>\n",
              "      <td>...</td>\n",
              "      <td>...</td>\n",
              "      <td>...</td>\n",
              "      <td>...</td>\n",
              "    </tr>\n",
              "    <tr>\n",
              "      <th>1805</th>\n",
              "      <td>15449.0</td>\n",
              "      <td>0.000000</td>\n",
              "      <td>2</td>\n",
              "      <td>647.70</td>\n",
              "      <td>184</td>\n",
              "      <td>516</td>\n",
              "    </tr>\n",
              "    <tr>\n",
              "      <th>1151</th>\n",
              "      <td>14321.0</td>\n",
              "      <td>0.000000</td>\n",
              "      <td>3</td>\n",
              "      <td>900.65</td>\n",
              "      <td>115</td>\n",
              "      <td>1516</td>\n",
              "    </tr>\n",
              "    <tr>\n",
              "      <th>340</th>\n",
              "      <td>12902.0</td>\n",
              "      <td>1.000000</td>\n",
              "      <td>1</td>\n",
              "      <td>138.68</td>\n",
              "      <td>263</td>\n",
              "      <td>66</td>\n",
              "    </tr>\n",
              "    <tr>\n",
              "      <th>1563</th>\n",
              "      <td>15046.0</td>\n",
              "      <td>0.454545</td>\n",
              "      <td>11</td>\n",
              "      <td>3984.53</td>\n",
              "      <td>95</td>\n",
              "      <td>2561</td>\n",
              "    </tr>\n",
              "    <tr>\n",
              "      <th>748</th>\n",
              "      <td>13626.0</td>\n",
              "      <td>0.000000</td>\n",
              "      <td>1</td>\n",
              "      <td>257.23</td>\n",
              "      <td>251</td>\n",
              "      <td>209</td>\n",
              "    </tr>\n",
              "  </tbody>\n",
              "</table>\n",
              "<p>1111 rows × 6 columns</p>\n",
              "</div>"
            ],
            "text/plain": [
              "      CustomerID  is_weekend  frequency  monetary  recency  Quantity\n",
              "1116     14259.0    0.000000          1    120.00      140        68\n",
              "2358     16469.0    0.000000          2    276.88      245       114\n",
              "807      13726.0    0.000000          1    292.68       99       384\n",
              "2700     17085.0    0.600000          5   1566.65      122       786\n",
              "196      12664.0    0.000000          3   1957.48      142       505\n",
              "...          ...         ...        ...       ...      ...       ...\n",
              "1805     15449.0    0.000000          2    647.70      184       516\n",
              "1151     14321.0    0.000000          3    900.65      115      1516\n",
              "340      12902.0    1.000000          1    138.68      263        66\n",
              "1563     15046.0    0.454545         11   3984.53       95      2561\n",
              "748      13626.0    0.000000          1    257.23      251       209\n",
              "\n",
              "[1111 rows x 6 columns]"
            ]
          },
          "metadata": {
            "tags": []
          },
          "execution_count": 65
        }
      ]
    },
    {
      "cell_type": "code",
      "metadata": {
        "id": "f4SSMLWpi_Rd"
      },
      "source": [
        "from sklearn import preprocessing\n",
        "\n",
        "min_max_scaler = preprocessing.MinMaxScaler()\n",
        "x_train[['frequency', 'monetary', 'recency', 'Quantity']] = min_max_scaler.fit_transform(x_train[['frequency', 'monetary', 'recency', 'Quantity']])\n",
        "x_test[['frequency', 'monetary', 'recency', 'Quantity']] = min_max_scaler.transform(x_test[['frequency', 'monetary', 'recency', 'Quantity']])"
      ],
      "execution_count": null,
      "outputs": []
    },
    {
      "cell_type": "code",
      "metadata": {
        "colab": {
          "base_uri": "https://localhost:8080/",
          "height": 419
        },
        "id": "elLDeBwzi_Rd",
        "outputId": "b4a7c0d2-1eab-446a-e93d-b97b9a52aeb9"
      },
      "source": [
        "x_train"
      ],
      "execution_count": null,
      "outputs": [
        {
          "output_type": "execute_result",
          "data": {
            "text/html": [
              "<div>\n",
              "<style scoped>\n",
              "    .dataframe tbody tr th:only-of-type {\n",
              "        vertical-align: middle;\n",
              "    }\n",
              "\n",
              "    .dataframe tbody tr th {\n",
              "        vertical-align: top;\n",
              "    }\n",
              "\n",
              "    .dataframe thead th {\n",
              "        text-align: right;\n",
              "    }\n",
              "</style>\n",
              "<table border=\"1\" class=\"dataframe\">\n",
              "  <thead>\n",
              "    <tr style=\"text-align: right;\">\n",
              "      <th></th>\n",
              "      <th>CustomerID</th>\n",
              "      <th>is_weekend</th>\n",
              "      <th>frequency</th>\n",
              "      <th>monetary</th>\n",
              "      <th>recency</th>\n",
              "      <th>Quantity</th>\n",
              "    </tr>\n",
              "  </thead>\n",
              "  <tbody>\n",
              "    <tr>\n",
              "      <th>1356</th>\n",
              "      <td>14660.0</td>\n",
              "      <td>0.000000</td>\n",
              "      <td>0.000000</td>\n",
              "      <td>0.000702</td>\n",
              "      <td>0.031915</td>\n",
              "      <td>0.000806</td>\n",
              "    </tr>\n",
              "    <tr>\n",
              "      <th>480</th>\n",
              "      <td>13139.0</td>\n",
              "      <td>0.333333</td>\n",
              "      <td>0.015385</td>\n",
              "      <td>0.009575</td>\n",
              "      <td>0.063830</td>\n",
              "      <td>0.005675</td>\n",
              "    </tr>\n",
              "    <tr>\n",
              "      <th>2880</th>\n",
              "      <td>17423.0</td>\n",
              "      <td>0.000000</td>\n",
              "      <td>0.000000</td>\n",
              "      <td>0.002500</td>\n",
              "      <td>0.446809</td>\n",
              "      <td>0.002450</td>\n",
              "    </tr>\n",
              "    <tr>\n",
              "      <th>2609</th>\n",
              "      <td>16918.0</td>\n",
              "      <td>0.333333</td>\n",
              "      <td>0.015385</td>\n",
              "      <td>0.004593</td>\n",
              "      <td>0.014184</td>\n",
              "      <td>0.004392</td>\n",
              "    </tr>\n",
              "    <tr>\n",
              "      <th>1446</th>\n",
              "      <td>14821.0</td>\n",
              "      <td>0.000000</td>\n",
              "      <td>0.000000</td>\n",
              "      <td>0.000253</td>\n",
              "      <td>0.975177</td>\n",
              "      <td>0.000149</td>\n",
              "    </tr>\n",
              "    <tr>\n",
              "      <th>...</th>\n",
              "      <td>...</td>\n",
              "      <td>...</td>\n",
              "      <td>...</td>\n",
              "      <td>...</td>\n",
              "      <td>...</td>\n",
              "      <td>...</td>\n",
              "    </tr>\n",
              "    <tr>\n",
              "      <th>1095</th>\n",
              "      <td>14227.0</td>\n",
              "      <td>0.000000</td>\n",
              "      <td>0.046154</td>\n",
              "      <td>0.013437</td>\n",
              "      <td>0.372340</td>\n",
              "      <td>0.010004</td>\n",
              "    </tr>\n",
              "    <tr>\n",
              "      <th>1130</th>\n",
              "      <td>14286.0</td>\n",
              "      <td>0.000000</td>\n",
              "      <td>0.000000</td>\n",
              "      <td>0.011477</td>\n",
              "      <td>0.535461</td>\n",
              "      <td>0.015633</td>\n",
              "    </tr>\n",
              "    <tr>\n",
              "      <th>1294</th>\n",
              "      <td>14548.0</td>\n",
              "      <td>0.000000</td>\n",
              "      <td>0.007692</td>\n",
              "      <td>0.003640</td>\n",
              "      <td>0.209220</td>\n",
              "      <td>0.001996</td>\n",
              "    </tr>\n",
              "    <tr>\n",
              "      <th>860</th>\n",
              "      <td>13814.0</td>\n",
              "      <td>0.000000</td>\n",
              "      <td>0.007692</td>\n",
              "      <td>0.008836</td>\n",
              "      <td>0.003546</td>\n",
              "      <td>0.006756</td>\n",
              "    </tr>\n",
              "    <tr>\n",
              "      <th>3174</th>\n",
              "      <td>17939.0</td>\n",
              "      <td>1.000000</td>\n",
              "      <td>0.000000</td>\n",
              "      <td>0.000535</td>\n",
              "      <td>0.241135</td>\n",
              "      <td>0.000305</td>\n",
              "    </tr>\n",
              "  </tbody>\n",
              "</table>\n",
              "<p>2255 rows × 6 columns</p>\n",
              "</div>"
            ],
            "text/plain": [
              "      CustomerID  is_weekend  frequency  monetary   recency  Quantity\n",
              "1356     14660.0    0.000000   0.000000  0.000702  0.031915  0.000806\n",
              "480      13139.0    0.333333   0.015385  0.009575  0.063830  0.005675\n",
              "2880     17423.0    0.000000   0.000000  0.002500  0.446809  0.002450\n",
              "2609     16918.0    0.333333   0.015385  0.004593  0.014184  0.004392\n",
              "1446     14821.0    0.000000   0.000000  0.000253  0.975177  0.000149\n",
              "...          ...         ...        ...       ...       ...       ...\n",
              "1095     14227.0    0.000000   0.046154  0.013437  0.372340  0.010004\n",
              "1130     14286.0    0.000000   0.000000  0.011477  0.535461  0.015633\n",
              "1294     14548.0    0.000000   0.007692  0.003640  0.209220  0.001996\n",
              "860      13814.0    0.000000   0.007692  0.008836  0.003546  0.006756\n",
              "3174     17939.0    1.000000   0.000000  0.000535  0.241135  0.000305\n",
              "\n",
              "[2255 rows x 6 columns]"
            ]
          },
          "metadata": {
            "tags": []
          },
          "execution_count": 67
        }
      ]
    },
    {
      "cell_type": "code",
      "metadata": {
        "id": "EpIwKEzTi_Rd"
      },
      "source": [
        "x_train.drop('CustomerID', axis=1, inplace=True)"
      ],
      "execution_count": null,
      "outputs": []
    },
    {
      "cell_type": "code",
      "metadata": {
        "id": "LBbo7kSUi_Re"
      },
      "source": [
        "cus_id = x_test['CustomerID']\n",
        "x_test.drop('CustomerID', axis=1, inplace=True)"
      ],
      "execution_count": null,
      "outputs": []
    },
    {
      "cell_type": "markdown",
      "metadata": {
        "id": "BNmKrQMvi_Re"
      },
      "source": [
        "###Logistic regression"
      ]
    },
    {
      "cell_type": "code",
      "metadata": {
        "colab": {
          "base_uri": "https://localhost:8080/",
          "height": 419
        },
        "id": "vQUjHKN2i_Re",
        "outputId": "779cbbdf-5ac1-403c-e409-6da31bc3d511"
      },
      "source": [
        "x_train"
      ],
      "execution_count": null,
      "outputs": [
        {
          "output_type": "execute_result",
          "data": {
            "text/html": [
              "<div>\n",
              "<style scoped>\n",
              "    .dataframe tbody tr th:only-of-type {\n",
              "        vertical-align: middle;\n",
              "    }\n",
              "\n",
              "    .dataframe tbody tr th {\n",
              "        vertical-align: top;\n",
              "    }\n",
              "\n",
              "    .dataframe thead th {\n",
              "        text-align: right;\n",
              "    }\n",
              "</style>\n",
              "<table border=\"1\" class=\"dataframe\">\n",
              "  <thead>\n",
              "    <tr style=\"text-align: right;\">\n",
              "      <th></th>\n",
              "      <th>is_weekend</th>\n",
              "      <th>frequency</th>\n",
              "      <th>monetary</th>\n",
              "      <th>recency</th>\n",
              "      <th>Quantity</th>\n",
              "    </tr>\n",
              "  </thead>\n",
              "  <tbody>\n",
              "    <tr>\n",
              "      <th>1356</th>\n",
              "      <td>0.000000</td>\n",
              "      <td>0.000000</td>\n",
              "      <td>0.000702</td>\n",
              "      <td>0.031915</td>\n",
              "      <td>0.000806</td>\n",
              "    </tr>\n",
              "    <tr>\n",
              "      <th>480</th>\n",
              "      <td>0.333333</td>\n",
              "      <td>0.015385</td>\n",
              "      <td>0.009575</td>\n",
              "      <td>0.063830</td>\n",
              "      <td>0.005675</td>\n",
              "    </tr>\n",
              "    <tr>\n",
              "      <th>2880</th>\n",
              "      <td>0.000000</td>\n",
              "      <td>0.000000</td>\n",
              "      <td>0.002500</td>\n",
              "      <td>0.446809</td>\n",
              "      <td>0.002450</td>\n",
              "    </tr>\n",
              "    <tr>\n",
              "      <th>2609</th>\n",
              "      <td>0.333333</td>\n",
              "      <td>0.015385</td>\n",
              "      <td>0.004593</td>\n",
              "      <td>0.014184</td>\n",
              "      <td>0.004392</td>\n",
              "    </tr>\n",
              "    <tr>\n",
              "      <th>1446</th>\n",
              "      <td>0.000000</td>\n",
              "      <td>0.000000</td>\n",
              "      <td>0.000253</td>\n",
              "      <td>0.975177</td>\n",
              "      <td>0.000149</td>\n",
              "    </tr>\n",
              "    <tr>\n",
              "      <th>...</th>\n",
              "      <td>...</td>\n",
              "      <td>...</td>\n",
              "      <td>...</td>\n",
              "      <td>...</td>\n",
              "      <td>...</td>\n",
              "    </tr>\n",
              "    <tr>\n",
              "      <th>1095</th>\n",
              "      <td>0.000000</td>\n",
              "      <td>0.046154</td>\n",
              "      <td>0.013437</td>\n",
              "      <td>0.372340</td>\n",
              "      <td>0.010004</td>\n",
              "    </tr>\n",
              "    <tr>\n",
              "      <th>1130</th>\n",
              "      <td>0.000000</td>\n",
              "      <td>0.000000</td>\n",
              "      <td>0.011477</td>\n",
              "      <td>0.535461</td>\n",
              "      <td>0.015633</td>\n",
              "    </tr>\n",
              "    <tr>\n",
              "      <th>1294</th>\n",
              "      <td>0.000000</td>\n",
              "      <td>0.007692</td>\n",
              "      <td>0.003640</td>\n",
              "      <td>0.209220</td>\n",
              "      <td>0.001996</td>\n",
              "    </tr>\n",
              "    <tr>\n",
              "      <th>860</th>\n",
              "      <td>0.000000</td>\n",
              "      <td>0.007692</td>\n",
              "      <td>0.008836</td>\n",
              "      <td>0.003546</td>\n",
              "      <td>0.006756</td>\n",
              "    </tr>\n",
              "    <tr>\n",
              "      <th>3174</th>\n",
              "      <td>1.000000</td>\n",
              "      <td>0.000000</td>\n",
              "      <td>0.000535</td>\n",
              "      <td>0.241135</td>\n",
              "      <td>0.000305</td>\n",
              "    </tr>\n",
              "  </tbody>\n",
              "</table>\n",
              "<p>2255 rows × 5 columns</p>\n",
              "</div>"
            ],
            "text/plain": [
              "      is_weekend  frequency  monetary   recency  Quantity\n",
              "1356    0.000000   0.000000  0.000702  0.031915  0.000806\n",
              "480     0.333333   0.015385  0.009575  0.063830  0.005675\n",
              "2880    0.000000   0.000000  0.002500  0.446809  0.002450\n",
              "2609    0.333333   0.015385  0.004593  0.014184  0.004392\n",
              "1446    0.000000   0.000000  0.000253  0.975177  0.000149\n",
              "...          ...        ...       ...       ...       ...\n",
              "1095    0.000000   0.046154  0.013437  0.372340  0.010004\n",
              "1130    0.000000   0.000000  0.011477  0.535461  0.015633\n",
              "1294    0.000000   0.007692  0.003640  0.209220  0.001996\n",
              "860     0.000000   0.007692  0.008836  0.003546  0.006756\n",
              "3174    1.000000   0.000000  0.000535  0.241135  0.000305\n",
              "\n",
              "[2255 rows x 5 columns]"
            ]
          },
          "metadata": {
            "tags": []
          },
          "execution_count": 74
        }
      ]
    },
    {
      "cell_type": "code",
      "metadata": {
        "colab": {
          "base_uri": "https://localhost:8080/",
          "height": 419
        },
        "id": "HleOhx6_i_Re",
        "outputId": "e9f39803-638d-4f98-cd59-409a053f063d"
      },
      "source": [
        "x_test"
      ],
      "execution_count": null,
      "outputs": [
        {
          "output_type": "execute_result",
          "data": {
            "text/html": [
              "<div>\n",
              "<style scoped>\n",
              "    .dataframe tbody tr th:only-of-type {\n",
              "        vertical-align: middle;\n",
              "    }\n",
              "\n",
              "    .dataframe tbody tr th {\n",
              "        vertical-align: top;\n",
              "    }\n",
              "\n",
              "    .dataframe thead th {\n",
              "        text-align: right;\n",
              "    }\n",
              "</style>\n",
              "<table border=\"1\" class=\"dataframe\">\n",
              "  <thead>\n",
              "    <tr style=\"text-align: right;\">\n",
              "      <th></th>\n",
              "      <th>is_weekend</th>\n",
              "      <th>frequency</th>\n",
              "      <th>monetary</th>\n",
              "      <th>recency</th>\n",
              "      <th>Quantity</th>\n",
              "    </tr>\n",
              "  </thead>\n",
              "  <tbody>\n",
              "    <tr>\n",
              "      <th>1116</th>\n",
              "      <td>0.000000</td>\n",
              "      <td>0.000000</td>\n",
              "      <td>0.000652</td>\n",
              "      <td>0.177305</td>\n",
              "      <td>0.000524</td>\n",
              "    </tr>\n",
              "    <tr>\n",
              "      <th>2358</th>\n",
              "      <td>0.000000</td>\n",
              "      <td>0.007692</td>\n",
              "      <td>0.001532</td>\n",
              "      <td>0.549645</td>\n",
              "      <td>0.000885</td>\n",
              "    </tr>\n",
              "    <tr>\n",
              "      <th>807</th>\n",
              "      <td>0.000000</td>\n",
              "      <td>0.000000</td>\n",
              "      <td>0.001620</td>\n",
              "      <td>0.031915</td>\n",
              "      <td>0.002998</td>\n",
              "    </tr>\n",
              "    <tr>\n",
              "      <th>2700</th>\n",
              "      <td>0.600000</td>\n",
              "      <td>0.030769</td>\n",
              "      <td>0.008766</td>\n",
              "      <td>0.113475</td>\n",
              "      <td>0.006145</td>\n",
              "    </tr>\n",
              "    <tr>\n",
              "      <th>196</th>\n",
              "      <td>0.000000</td>\n",
              "      <td>0.015385</td>\n",
              "      <td>0.010958</td>\n",
              "      <td>0.184397</td>\n",
              "      <td>0.003945</td>\n",
              "    </tr>\n",
              "    <tr>\n",
              "      <th>...</th>\n",
              "      <td>...</td>\n",
              "      <td>...</td>\n",
              "      <td>...</td>\n",
              "      <td>...</td>\n",
              "      <td>...</td>\n",
              "    </tr>\n",
              "    <tr>\n",
              "      <th>1805</th>\n",
              "      <td>0.000000</td>\n",
              "      <td>0.007692</td>\n",
              "      <td>0.003612</td>\n",
              "      <td>0.333333</td>\n",
              "      <td>0.004032</td>\n",
              "    </tr>\n",
              "    <tr>\n",
              "      <th>1151</th>\n",
              "      <td>0.000000</td>\n",
              "      <td>0.015385</td>\n",
              "      <td>0.005030</td>\n",
              "      <td>0.088652</td>\n",
              "      <td>0.011860</td>\n",
              "    </tr>\n",
              "    <tr>\n",
              "      <th>340</th>\n",
              "      <td>1.000000</td>\n",
              "      <td>0.000000</td>\n",
              "      <td>0.000757</td>\n",
              "      <td>0.613475</td>\n",
              "      <td>0.000509</td>\n",
              "    </tr>\n",
              "    <tr>\n",
              "      <th>1563</th>\n",
              "      <td>0.454545</td>\n",
              "      <td>0.076923</td>\n",
              "      <td>0.022326</td>\n",
              "      <td>0.017730</td>\n",
              "      <td>0.020040</td>\n",
              "    </tr>\n",
              "    <tr>\n",
              "      <th>748</th>\n",
              "      <td>0.000000</td>\n",
              "      <td>0.000000</td>\n",
              "      <td>0.001422</td>\n",
              "      <td>0.570922</td>\n",
              "      <td>0.001628</td>\n",
              "    </tr>\n",
              "  </tbody>\n",
              "</table>\n",
              "<p>1111 rows × 5 columns</p>\n",
              "</div>"
            ],
            "text/plain": [
              "      is_weekend  frequency  monetary   recency  Quantity\n",
              "1116    0.000000   0.000000  0.000652  0.177305  0.000524\n",
              "2358    0.000000   0.007692  0.001532  0.549645  0.000885\n",
              "807     0.000000   0.000000  0.001620  0.031915  0.002998\n",
              "2700    0.600000   0.030769  0.008766  0.113475  0.006145\n",
              "196     0.000000   0.015385  0.010958  0.184397  0.003945\n",
              "...          ...        ...       ...       ...       ...\n",
              "1805    0.000000   0.007692  0.003612  0.333333  0.004032\n",
              "1151    0.000000   0.015385  0.005030  0.088652  0.011860\n",
              "340     1.000000   0.000000  0.000757  0.613475  0.000509\n",
              "1563    0.454545   0.076923  0.022326  0.017730  0.020040\n",
              "748     0.000000   0.000000  0.001422  0.570922  0.001628\n",
              "\n",
              "[1111 rows x 5 columns]"
            ]
          },
          "metadata": {
            "tags": []
          },
          "execution_count": 75
        }
      ]
    },
    {
      "cell_type": "code",
      "metadata": {
        "colab": {
          "base_uri": "https://localhost:8080/"
        },
        "id": "UXWP6E6-i_Rf",
        "outputId": "aa0fa0dd-da68-413e-e7bb-a94b7366f498"
      },
      "source": [
        "# import the class\n",
        "from sklearn.linear_model import LogisticRegression\n",
        "from sklearn.metrics import accuracy_score\n",
        "\n",
        "# instantiate the model (using the default parameters)\n",
        "logreg = LogisticRegression()\n",
        "\n",
        "# fit the model with data\n",
        "logreg.fit(x_train,y_train)\n",
        "\n",
        "#predict on the test data\n",
        "y_pred=logreg.predict(x_test)\n",
        "\n",
        "print('Test accuracy is', accuracy_score(y_test, y_pred))"
      ],
      "execution_count": null,
      "outputs": [
        {
          "output_type": "stream",
          "text": [
            "Test accuracy is 0.6552655265526552\n"
          ],
          "name": "stdout"
        }
      ]
    },
    {
      "cell_type": "markdown",
      "metadata": {
        "id": "wZfGvp-Fi_Rf"
      },
      "source": [
        "###SVC"
      ]
    },
    {
      "cell_type": "code",
      "metadata": {
        "colab": {
          "base_uri": "https://localhost:8080/"
        },
        "id": "mkIJOUYri_Rf",
        "outputId": "83d0eb1c-7641-48eb-ba7c-05c409d1060e"
      },
      "source": [
        "from sklearn import svm\n",
        "\n",
        "clf_svc = svm.SVC()\n",
        "clf_svc.fit(x_train, y_train)\n",
        "\n",
        "y_pred = clf_svc.predict(x_test)\n",
        "\n",
        "print('Test accuracy is', accuracy_score(y_test, y_pred))"
      ],
      "execution_count": null,
      "outputs": [
        {
          "output_type": "stream",
          "text": [
            "Test accuracy is 0.6741674167416741\n"
          ],
          "name": "stdout"
        }
      ]
    },
    {
      "cell_type": "markdown",
      "metadata": {
        "id": "y-PDGVTIi_Rf"
      },
      "source": [
        "###RandomForestClassifier\n"
      ]
    },
    {
      "cell_type": "code",
      "metadata": {
        "colab": {
          "base_uri": "https://localhost:8080/"
        },
        "id": "a1b1ubchi_Rf",
        "outputId": "27559f97-3494-4a57-d435-033174782143"
      },
      "source": [
        "from sklearn.ensemble import RandomForestClassifier\n",
        "\n",
        "clf = RandomForestClassifier(max_depth=2, random_state=0)\n",
        "clf.fit(x_train, y_train)"
      ],
      "execution_count": null,
      "outputs": [
        {
          "output_type": "execute_result",
          "data": {
            "text/plain": [
              "RandomForestClassifier(bootstrap=True, ccp_alpha=0.0, class_weight=None,\n",
              "                       criterion='gini', max_depth=2, max_features='auto',\n",
              "                       max_leaf_nodes=None, max_samples=None,\n",
              "                       min_impurity_decrease=0.0, min_impurity_split=None,\n",
              "                       min_samples_leaf=1, min_samples_split=2,\n",
              "                       min_weight_fraction_leaf=0.0, n_estimators=100,\n",
              "                       n_jobs=None, oob_score=False, random_state=0, verbose=0,\n",
              "                       warm_start=False)"
            ]
          },
          "metadata": {
            "tags": []
          },
          "execution_count": 79
        }
      ]
    },
    {
      "cell_type": "code",
      "metadata": {
        "id": "doiYd4h7i_Rg"
      },
      "source": [
        "y_pred = clf.predict(x_test)"
      ],
      "execution_count": null,
      "outputs": []
    },
    {
      "cell_type": "code",
      "metadata": {
        "colab": {
          "base_uri": "https://localhost:8080/"
        },
        "id": "m6v8Q3mKi_Rg",
        "outputId": "f8b09a7d-e170-46a3-b819-ba2fb0a53f7a"
      },
      "source": [
        "print('Test accuracy is', accuracy_score(y_test, y_pred))"
      ],
      "execution_count": null,
      "outputs": [
        {
          "output_type": "stream",
          "text": [
            "Test accuracy is 0.6642664266426642\n"
          ],
          "name": "stdout"
        }
      ]
    },
    {
      "cell_type": "markdown",
      "metadata": {
        "id": "E-niBog2i_Rg"
      },
      "source": [
        "###RandomForestClassifier with GridSearchCV\n"
      ]
    },
    {
      "cell_type": "code",
      "metadata": {
        "id": "zB1c9GtLi_Rg"
      },
      "source": [
        "from sklearn.model_selection import RandomizedSearchCV\n",
        "# Number of trees in random forest\n",
        "n_estimators = [int(x) for x in np.linspace(start = 200, stop = 2000, num = 10)]\n",
        "# Number of features to consider at every split\n",
        "max_features = ['auto', 'sqrt']\n",
        "# Maximum number of levels in tree\n",
        "max_depth = [int(x) for x in np.linspace(10, 110, num = 11)]\n",
        "max_depth.append(None)\n",
        "# Minimum number of samples required to split a node\n",
        "min_samples_split = [2, 5, 10]\n",
        "# Minimum number of samples required at each leaf node\n",
        "min_samples_leaf = [1, 2, 4]\n",
        "# Method of selecting samples for training each tree\n",
        "bootstrap = [True, False]\n",
        "\n",
        "# Create the random grid\n",
        "random_grid = {'n_estimators': n_estimators,\n",
        "               'max_features': max_features,\n",
        "               'max_depth': max_depth,\n",
        "               'min_samples_split': min_samples_split,\n",
        "               'min_samples_leaf': min_samples_leaf,\n",
        "               'bootstrap': bootstrap}"
      ],
      "execution_count": null,
      "outputs": []
    },
    {
      "cell_type": "code",
      "metadata": {
        "colab": {
          "base_uri": "https://localhost:8080/"
        },
        "id": "jCQS2_HNi_Rh",
        "outputId": "490e48dc-9e0c-455b-f643-71a3b18053be"
      },
      "source": [
        "# Use the random grid to search for best hyperparameters\n",
        "# First create the base model to tune\n",
        "rf = RandomForestClassifier()\n",
        "# Random search of parameters, using 3 fold cross validation, \n",
        "# search across 100 different combinations, and use all available cores\n",
        "rf_random = RandomizedSearchCV(estimator = rf, param_distributions = random_grid, n_iter = 100, cv = 3, verbose=2, random_state=42, n_jobs = -1)\n",
        "# Fit the random search model\n",
        "rf_random.fit(x_train, y_train)"
      ],
      "execution_count": null,
      "outputs": [
        {
          "output_type": "stream",
          "text": [
            "Fitting 3 folds for each of 100 candidates, totalling 300 fits\n"
          ],
          "name": "stdout"
        },
        {
          "output_type": "stream",
          "text": [
            "[Parallel(n_jobs=-1)]: Using backend LokyBackend with 2 concurrent workers.\n",
            "[Parallel(n_jobs=-1)]: Done  37 tasks      | elapsed:  1.8min\n",
            "[Parallel(n_jobs=-1)]: Done 158 tasks      | elapsed:  7.2min\n",
            "[Parallel(n_jobs=-1)]: Done 300 out of 300 | elapsed: 13.3min finished\n"
          ],
          "name": "stderr"
        },
        {
          "output_type": "execute_result",
          "data": {
            "text/plain": [
              "RandomizedSearchCV(cv=3, error_score=nan,\n",
              "                   estimator=RandomForestClassifier(bootstrap=True,\n",
              "                                                    ccp_alpha=0.0,\n",
              "                                                    class_weight=None,\n",
              "                                                    criterion='gini',\n",
              "                                                    max_depth=None,\n",
              "                                                    max_features='auto',\n",
              "                                                    max_leaf_nodes=None,\n",
              "                                                    max_samples=None,\n",
              "                                                    min_impurity_decrease=0.0,\n",
              "                                                    min_impurity_split=None,\n",
              "                                                    min_samples_leaf=1,\n",
              "                                                    min_samples_split=2,\n",
              "                                                    min_weight_fraction_leaf=0.0,\n",
              "                                                    n_estimators=100,\n",
              "                                                    n_jobs...\n",
              "                   param_distributions={'bootstrap': [True, False],\n",
              "                                        'max_depth': [10, 20, 30, 40, 50, 60,\n",
              "                                                      70, 80, 90, 100, 110,\n",
              "                                                      None],\n",
              "                                        'max_features': ['auto', 'sqrt'],\n",
              "                                        'min_samples_leaf': [1, 2, 4],\n",
              "                                        'min_samples_split': [2, 5, 10],\n",
              "                                        'n_estimators': [200, 400, 600, 800,\n",
              "                                                         1000, 1200, 1400, 1600,\n",
              "                                                         1800, 2000]},\n",
              "                   pre_dispatch='2*n_jobs', random_state=42, refit=True,\n",
              "                   return_train_score=False, scoring=None, verbose=2)"
            ]
          },
          "metadata": {
            "tags": []
          },
          "execution_count": 86
        }
      ]
    },
    {
      "cell_type": "code",
      "metadata": {
        "colab": {
          "base_uri": "https://localhost:8080/"
        },
        "id": "27yIxe_xi_Rh",
        "outputId": "19ce6aa9-d29e-4333-93b5-7674d36ed47f"
      },
      "source": [
        "y_pred = rf_random.predict(x_test)\n",
        "\n",
        "print('Test accuracy is', accuracy_score(y_test, y_pred))"
      ],
      "execution_count": null,
      "outputs": [
        {
          "output_type": "stream",
          "text": [
            "Test accuracy is 0.6426642664266426\n"
          ],
          "name": "stdout"
        }
      ]
    },
    {
      "cell_type": "markdown",
      "metadata": {
        "id": "9zc1g-WUi_Rh"
      },
      "source": [
        "###XGBoost"
      ]
    },
    {
      "cell_type": "code",
      "metadata": {
        "id": "fn7X0s8Ji_Rh"
      },
      "source": [
        "import xgboost as xgb\n",
        "\n",
        "data_dmatrix = xgb.DMatrix(data=x_train,label=y_train)\n",
        "\n",
        "xg_cls = xgb.XGBClassifier(objective ='reg:linear', colsample_bytree = 0.3, learning_rate = 0.1,\n",
        "                max_depth = 5, alpha = 10, n_estimators = 10)"
      ],
      "execution_count": null,
      "outputs": []
    },
    {
      "cell_type": "code",
      "metadata": {
        "colab": {
          "base_uri": "https://localhost:8080/"
        },
        "id": "OnuIngwzi_Rh",
        "outputId": "eba91a73-1ebf-4254-bbb7-ae1f6ff17be4"
      },
      "source": [
        "xg_cls.fit(x_train,y_train)\n",
        "\n",
        "preds = xg_cls.predict(x_test)"
      ],
      "execution_count": null,
      "outputs": [
        {
          "output_type": "stream",
          "text": [
            "[14:10:05] WARNING: /workspace/src/objective/regression_obj.cu:152: reg:linear is now deprecated in favor of reg:squarederror.\n"
          ],
          "name": "stdout"
        }
      ]
    },
    {
      "cell_type": "code",
      "metadata": {
        "colab": {
          "base_uri": "https://localhost:8080/"
        },
        "id": "0hI55xB8i_Ri",
        "outputId": "81c784a3-5d57-4da7-bb58-f0ecd4d63cbc"
      },
      "source": [
        "print('Test accuracy is', accuracy_score(y_test, preds))"
      ],
      "execution_count": null,
      "outputs": [
        {
          "output_type": "stream",
          "text": [
            "Test accuracy is 0.6462646264626463\n"
          ],
          "name": "stdout"
        }
      ]
    },
    {
      "cell_type": "code",
      "metadata": {
        "colab": {
          "base_uri": "https://localhost:8080/",
          "height": 419
        },
        "id": "vfoNhsxXeqsg",
        "outputId": "b4a7c0d2-1eab-446a-e93d-b97b9a52aeb9"
      },
      "source": [
        "x_train"
      ],
      "execution_count": null,
      "outputs": [
        {
          "output_type": "execute_result",
          "data": {
            "text/html": [
              "<div>\n",
              "<style scoped>\n",
              "    .dataframe tbody tr th:only-of-type {\n",
              "        vertical-align: middle;\n",
              "    }\n",
              "\n",
              "    .dataframe tbody tr th {\n",
              "        vertical-align: top;\n",
              "    }\n",
              "\n",
              "    .dataframe thead th {\n",
              "        text-align: right;\n",
              "    }\n",
              "</style>\n",
              "<table border=\"1\" class=\"dataframe\">\n",
              "  <thead>\n",
              "    <tr style=\"text-align: right;\">\n",
              "      <th></th>\n",
              "      <th>CustomerID</th>\n",
              "      <th>is_weekend</th>\n",
              "      <th>frequency</th>\n",
              "      <th>monetary</th>\n",
              "      <th>recency</th>\n",
              "      <th>Quantity</th>\n",
              "    </tr>\n",
              "  </thead>\n",
              "  <tbody>\n",
              "    <tr>\n",
              "      <th>1356</th>\n",
              "      <td>14660.0</td>\n",
              "      <td>0.000000</td>\n",
              "      <td>0.000000</td>\n",
              "      <td>0.000702</td>\n",
              "      <td>0.031915</td>\n",
              "      <td>0.000806</td>\n",
              "    </tr>\n",
              "    <tr>\n",
              "      <th>480</th>\n",
              "      <td>13139.0</td>\n",
              "      <td>0.333333</td>\n",
              "      <td>0.015385</td>\n",
              "      <td>0.009575</td>\n",
              "      <td>0.063830</td>\n",
              "      <td>0.005675</td>\n",
              "    </tr>\n",
              "    <tr>\n",
              "      <th>2880</th>\n",
              "      <td>17423.0</td>\n",
              "      <td>0.000000</td>\n",
              "      <td>0.000000</td>\n",
              "      <td>0.002500</td>\n",
              "      <td>0.446809</td>\n",
              "      <td>0.002450</td>\n",
              "    </tr>\n",
              "    <tr>\n",
              "      <th>2609</th>\n",
              "      <td>16918.0</td>\n",
              "      <td>0.333333</td>\n",
              "      <td>0.015385</td>\n",
              "      <td>0.004593</td>\n",
              "      <td>0.014184</td>\n",
              "      <td>0.004392</td>\n",
              "    </tr>\n",
              "    <tr>\n",
              "      <th>1446</th>\n",
              "      <td>14821.0</td>\n",
              "      <td>0.000000</td>\n",
              "      <td>0.000000</td>\n",
              "      <td>0.000253</td>\n",
              "      <td>0.975177</td>\n",
              "      <td>0.000149</td>\n",
              "    </tr>\n",
              "    <tr>\n",
              "      <th>...</th>\n",
              "      <td>...</td>\n",
              "      <td>...</td>\n",
              "      <td>...</td>\n",
              "      <td>...</td>\n",
              "      <td>...</td>\n",
              "      <td>...</td>\n",
              "    </tr>\n",
              "    <tr>\n",
              "      <th>1095</th>\n",
              "      <td>14227.0</td>\n",
              "      <td>0.000000</td>\n",
              "      <td>0.046154</td>\n",
              "      <td>0.013437</td>\n",
              "      <td>0.372340</td>\n",
              "      <td>0.010004</td>\n",
              "    </tr>\n",
              "    <tr>\n",
              "      <th>1130</th>\n",
              "      <td>14286.0</td>\n",
              "      <td>0.000000</td>\n",
              "      <td>0.000000</td>\n",
              "      <td>0.011477</td>\n",
              "      <td>0.535461</td>\n",
              "      <td>0.015633</td>\n",
              "    </tr>\n",
              "    <tr>\n",
              "      <th>1294</th>\n",
              "      <td>14548.0</td>\n",
              "      <td>0.000000</td>\n",
              "      <td>0.007692</td>\n",
              "      <td>0.003640</td>\n",
              "      <td>0.209220</td>\n",
              "      <td>0.001996</td>\n",
              "    </tr>\n",
              "    <tr>\n",
              "      <th>860</th>\n",
              "      <td>13814.0</td>\n",
              "      <td>0.000000</td>\n",
              "      <td>0.007692</td>\n",
              "      <td>0.008836</td>\n",
              "      <td>0.003546</td>\n",
              "      <td>0.006756</td>\n",
              "    </tr>\n",
              "    <tr>\n",
              "      <th>3174</th>\n",
              "      <td>17939.0</td>\n",
              "      <td>1.000000</td>\n",
              "      <td>0.000000</td>\n",
              "      <td>0.000535</td>\n",
              "      <td>0.241135</td>\n",
              "      <td>0.000305</td>\n",
              "    </tr>\n",
              "  </tbody>\n",
              "</table>\n",
              "<p>2255 rows × 6 columns</p>\n",
              "</div>"
            ],
            "text/plain": [
              "      CustomerID  is_weekend  frequency  monetary   recency  Quantity\n",
              "1356     14660.0    0.000000   0.000000  0.000702  0.031915  0.000806\n",
              "480      13139.0    0.333333   0.015385  0.009575  0.063830  0.005675\n",
              "2880     17423.0    0.000000   0.000000  0.002500  0.446809  0.002450\n",
              "2609     16918.0    0.333333   0.015385  0.004593  0.014184  0.004392\n",
              "1446     14821.0    0.000000   0.000000  0.000253  0.975177  0.000149\n",
              "...          ...         ...        ...       ...       ...       ...\n",
              "1095     14227.0    0.000000   0.046154  0.013437  0.372340  0.010004\n",
              "1130     14286.0    0.000000   0.000000  0.011477  0.535461  0.015633\n",
              "1294     14548.0    0.000000   0.007692  0.003640  0.209220  0.001996\n",
              "860      13814.0    0.000000   0.007692  0.008836  0.003546  0.006756\n",
              "3174     17939.0    1.000000   0.000000  0.000535  0.241135  0.000305\n",
              "\n",
              "[2255 rows x 6 columns]"
            ]
          },
          "metadata": {
            "tags": []
          },
          "execution_count": 67
        }
      ]
    },
    {
      "cell_type": "code",
      "metadata": {
        "id": "jg1wNQZYe_gB"
      },
      "source": [
        "x_train.drop('CustomerID', axis=1, inplace=True)"
      ],
      "execution_count": null,
      "outputs": []
    },
    {
      "cell_type": "code",
      "metadata": {
        "id": "a15IsnUjwNTj"
      },
      "source": [
        "cus_id = x_test['CustomerID']\n",
        "x_test.drop('CustomerID', axis=1, inplace=True)"
      ],
      "execution_count": null,
      "outputs": []
    },
    {
      "cell_type": "markdown",
      "metadata": {
        "id": "0ZQvmD44rQi0"
      },
      "source": [
        "###Logistic regression"
      ]
    },
    {
      "cell_type": "code",
      "metadata": {
        "colab": {
          "base_uri": "https://localhost:8080/",
          "height": 419
        },
        "id": "difNfoMxv6ph",
        "outputId": "779cbbdf-5ac1-403c-e409-6da31bc3d511"
      },
      "source": [
        "x_train"
      ],
      "execution_count": null,
      "outputs": [
        {
          "output_type": "execute_result",
          "data": {
            "text/html": [
              "<div>\n",
              "<style scoped>\n",
              "    .dataframe tbody tr th:only-of-type {\n",
              "        vertical-align: middle;\n",
              "    }\n",
              "\n",
              "    .dataframe tbody tr th {\n",
              "        vertical-align: top;\n",
              "    }\n",
              "\n",
              "    .dataframe thead th {\n",
              "        text-align: right;\n",
              "    }\n",
              "</style>\n",
              "<table border=\"1\" class=\"dataframe\">\n",
              "  <thead>\n",
              "    <tr style=\"text-align: right;\">\n",
              "      <th></th>\n",
              "      <th>is_weekend</th>\n",
              "      <th>frequency</th>\n",
              "      <th>monetary</th>\n",
              "      <th>recency</th>\n",
              "      <th>Quantity</th>\n",
              "    </tr>\n",
              "  </thead>\n",
              "  <tbody>\n",
              "    <tr>\n",
              "      <th>1356</th>\n",
              "      <td>0.000000</td>\n",
              "      <td>0.000000</td>\n",
              "      <td>0.000702</td>\n",
              "      <td>0.031915</td>\n",
              "      <td>0.000806</td>\n",
              "    </tr>\n",
              "    <tr>\n",
              "      <th>480</th>\n",
              "      <td>0.333333</td>\n",
              "      <td>0.015385</td>\n",
              "      <td>0.009575</td>\n",
              "      <td>0.063830</td>\n",
              "      <td>0.005675</td>\n",
              "    </tr>\n",
              "    <tr>\n",
              "      <th>2880</th>\n",
              "      <td>0.000000</td>\n",
              "      <td>0.000000</td>\n",
              "      <td>0.002500</td>\n",
              "      <td>0.446809</td>\n",
              "      <td>0.002450</td>\n",
              "    </tr>\n",
              "    <tr>\n",
              "      <th>2609</th>\n",
              "      <td>0.333333</td>\n",
              "      <td>0.015385</td>\n",
              "      <td>0.004593</td>\n",
              "      <td>0.014184</td>\n",
              "      <td>0.004392</td>\n",
              "    </tr>\n",
              "    <tr>\n",
              "      <th>1446</th>\n",
              "      <td>0.000000</td>\n",
              "      <td>0.000000</td>\n",
              "      <td>0.000253</td>\n",
              "      <td>0.975177</td>\n",
              "      <td>0.000149</td>\n",
              "    </tr>\n",
              "    <tr>\n",
              "      <th>...</th>\n",
              "      <td>...</td>\n",
              "      <td>...</td>\n",
              "      <td>...</td>\n",
              "      <td>...</td>\n",
              "      <td>...</td>\n",
              "    </tr>\n",
              "    <tr>\n",
              "      <th>1095</th>\n",
              "      <td>0.000000</td>\n",
              "      <td>0.046154</td>\n",
              "      <td>0.013437</td>\n",
              "      <td>0.372340</td>\n",
              "      <td>0.010004</td>\n",
              "    </tr>\n",
              "    <tr>\n",
              "      <th>1130</th>\n",
              "      <td>0.000000</td>\n",
              "      <td>0.000000</td>\n",
              "      <td>0.011477</td>\n",
              "      <td>0.535461</td>\n",
              "      <td>0.015633</td>\n",
              "    </tr>\n",
              "    <tr>\n",
              "      <th>1294</th>\n",
              "      <td>0.000000</td>\n",
              "      <td>0.007692</td>\n",
              "      <td>0.003640</td>\n",
              "      <td>0.209220</td>\n",
              "      <td>0.001996</td>\n",
              "    </tr>\n",
              "    <tr>\n",
              "      <th>860</th>\n",
              "      <td>0.000000</td>\n",
              "      <td>0.007692</td>\n",
              "      <td>0.008836</td>\n",
              "      <td>0.003546</td>\n",
              "      <td>0.006756</td>\n",
              "    </tr>\n",
              "    <tr>\n",
              "      <th>3174</th>\n",
              "      <td>1.000000</td>\n",
              "      <td>0.000000</td>\n",
              "      <td>0.000535</td>\n",
              "      <td>0.241135</td>\n",
              "      <td>0.000305</td>\n",
              "    </tr>\n",
              "  </tbody>\n",
              "</table>\n",
              "<p>2255 rows × 5 columns</p>\n",
              "</div>"
            ],
            "text/plain": [
              "      is_weekend  frequency  monetary   recency  Quantity\n",
              "1356    0.000000   0.000000  0.000702  0.031915  0.000806\n",
              "480     0.333333   0.015385  0.009575  0.063830  0.005675\n",
              "2880    0.000000   0.000000  0.002500  0.446809  0.002450\n",
              "2609    0.333333   0.015385  0.004593  0.014184  0.004392\n",
              "1446    0.000000   0.000000  0.000253  0.975177  0.000149\n",
              "...          ...        ...       ...       ...       ...\n",
              "1095    0.000000   0.046154  0.013437  0.372340  0.010004\n",
              "1130    0.000000   0.000000  0.011477  0.535461  0.015633\n",
              "1294    0.000000   0.007692  0.003640  0.209220  0.001996\n",
              "860     0.000000   0.007692  0.008836  0.003546  0.006756\n",
              "3174    1.000000   0.000000  0.000535  0.241135  0.000305\n",
              "\n",
              "[2255 rows x 5 columns]"
            ]
          },
          "metadata": {
            "tags": []
          },
          "execution_count": 74
        }
      ]
    },
    {
      "cell_type": "code",
      "metadata": {
        "colab": {
          "base_uri": "https://localhost:8080/",
          "height": 419
        },
        "id": "5o1juyJbv-rN",
        "outputId": "e9f39803-638d-4f98-cd59-409a053f063d"
      },
      "source": [
        "x_test"
      ],
      "execution_count": null,
      "outputs": [
        {
          "output_type": "execute_result",
          "data": {
            "text/html": [
              "<div>\n",
              "<style scoped>\n",
              "    .dataframe tbody tr th:only-of-type {\n",
              "        vertical-align: middle;\n",
              "    }\n",
              "\n",
              "    .dataframe tbody tr th {\n",
              "        vertical-align: top;\n",
              "    }\n",
              "\n",
              "    .dataframe thead th {\n",
              "        text-align: right;\n",
              "    }\n",
              "</style>\n",
              "<table border=\"1\" class=\"dataframe\">\n",
              "  <thead>\n",
              "    <tr style=\"text-align: right;\">\n",
              "      <th></th>\n",
              "      <th>is_weekend</th>\n",
              "      <th>frequency</th>\n",
              "      <th>monetary</th>\n",
              "      <th>recency</th>\n",
              "      <th>Quantity</th>\n",
              "    </tr>\n",
              "  </thead>\n",
              "  <tbody>\n",
              "    <tr>\n",
              "      <th>1116</th>\n",
              "      <td>0.000000</td>\n",
              "      <td>0.000000</td>\n",
              "      <td>0.000652</td>\n",
              "      <td>0.177305</td>\n",
              "      <td>0.000524</td>\n",
              "    </tr>\n",
              "    <tr>\n",
              "      <th>2358</th>\n",
              "      <td>0.000000</td>\n",
              "      <td>0.007692</td>\n",
              "      <td>0.001532</td>\n",
              "      <td>0.549645</td>\n",
              "      <td>0.000885</td>\n",
              "    </tr>\n",
              "    <tr>\n",
              "      <th>807</th>\n",
              "      <td>0.000000</td>\n",
              "      <td>0.000000</td>\n",
              "      <td>0.001620</td>\n",
              "      <td>0.031915</td>\n",
              "      <td>0.002998</td>\n",
              "    </tr>\n",
              "    <tr>\n",
              "      <th>2700</th>\n",
              "      <td>0.600000</td>\n",
              "      <td>0.030769</td>\n",
              "      <td>0.008766</td>\n",
              "      <td>0.113475</td>\n",
              "      <td>0.006145</td>\n",
              "    </tr>\n",
              "    <tr>\n",
              "      <th>196</th>\n",
              "      <td>0.000000</td>\n",
              "      <td>0.015385</td>\n",
              "      <td>0.010958</td>\n",
              "      <td>0.184397</td>\n",
              "      <td>0.003945</td>\n",
              "    </tr>\n",
              "    <tr>\n",
              "      <th>...</th>\n",
              "      <td>...</td>\n",
              "      <td>...</td>\n",
              "      <td>...</td>\n",
              "      <td>...</td>\n",
              "      <td>...</td>\n",
              "    </tr>\n",
              "    <tr>\n",
              "      <th>1805</th>\n",
              "      <td>0.000000</td>\n",
              "      <td>0.007692</td>\n",
              "      <td>0.003612</td>\n",
              "      <td>0.333333</td>\n",
              "      <td>0.004032</td>\n",
              "    </tr>\n",
              "    <tr>\n",
              "      <th>1151</th>\n",
              "      <td>0.000000</td>\n",
              "      <td>0.015385</td>\n",
              "      <td>0.005030</td>\n",
              "      <td>0.088652</td>\n",
              "      <td>0.011860</td>\n",
              "    </tr>\n",
              "    <tr>\n",
              "      <th>340</th>\n",
              "      <td>1.000000</td>\n",
              "      <td>0.000000</td>\n",
              "      <td>0.000757</td>\n",
              "      <td>0.613475</td>\n",
              "      <td>0.000509</td>\n",
              "    </tr>\n",
              "    <tr>\n",
              "      <th>1563</th>\n",
              "      <td>0.454545</td>\n",
              "      <td>0.076923</td>\n",
              "      <td>0.022326</td>\n",
              "      <td>0.017730</td>\n",
              "      <td>0.020040</td>\n",
              "    </tr>\n",
              "    <tr>\n",
              "      <th>748</th>\n",
              "      <td>0.000000</td>\n",
              "      <td>0.000000</td>\n",
              "      <td>0.001422</td>\n",
              "      <td>0.570922</td>\n",
              "      <td>0.001628</td>\n",
              "    </tr>\n",
              "  </tbody>\n",
              "</table>\n",
              "<p>1111 rows × 5 columns</p>\n",
              "</div>"
            ],
            "text/plain": [
              "      is_weekend  frequency  monetary   recency  Quantity\n",
              "1116    0.000000   0.000000  0.000652  0.177305  0.000524\n",
              "2358    0.000000   0.007692  0.001532  0.549645  0.000885\n",
              "807     0.000000   0.000000  0.001620  0.031915  0.002998\n",
              "2700    0.600000   0.030769  0.008766  0.113475  0.006145\n",
              "196     0.000000   0.015385  0.010958  0.184397  0.003945\n",
              "...          ...        ...       ...       ...       ...\n",
              "1805    0.000000   0.007692  0.003612  0.333333  0.004032\n",
              "1151    0.000000   0.015385  0.005030  0.088652  0.011860\n",
              "340     1.000000   0.000000  0.000757  0.613475  0.000509\n",
              "1563    0.454545   0.076923  0.022326  0.017730  0.020040\n",
              "748     0.000000   0.000000  0.001422  0.570922  0.001628\n",
              "\n",
              "[1111 rows x 5 columns]"
            ]
          },
          "metadata": {
            "tags": []
          },
          "execution_count": 75
        }
      ]
    },
    {
      "cell_type": "code",
      "metadata": {
        "colab": {
          "base_uri": "https://localhost:8080/"
        },
        "id": "DgF4XezfrDea",
        "outputId": "aa0fa0dd-da68-413e-e7bb-a94b7366f498"
      },
      "source": [
        "# import the class\n",
        "from sklearn.linear_model import LogisticRegression\n",
        "from sklearn.metrics import accuracy_score\n",
        "\n",
        "# instantiate the model (using the default parameters)\n",
        "logreg = LogisticRegression()\n",
        "\n",
        "# fit the model with data\n",
        "logreg.fit(x_train,y_train)\n",
        "\n",
        "#predict on the test data\n",
        "y_pred=logreg.predict(x_test)\n",
        "\n",
        "print('Test accuracy is', accuracy_score(y_test, y_pred))"
      ],
      "execution_count": null,
      "outputs": [
        {
          "output_type": "stream",
          "text": [
            "Test accuracy is 0.6552655265526552\n"
          ],
          "name": "stdout"
        }
      ]
    },
    {
      "cell_type": "markdown",
      "metadata": {
        "id": "a6m7M1iltTon"
      },
      "source": [
        "###SVC"
      ]
    },
    {
      "cell_type": "code",
      "metadata": {
        "colab": {
          "base_uri": "https://localhost:8080/"
        },
        "id": "2uCRniXQrDg6",
        "outputId": "83d0eb1c-7641-48eb-ba7c-05c409d1060e"
      },
      "source": [
        "from sklearn import svm\n",
        "\n",
        "clf_svc = svm.SVC()\n",
        "clf_svc.fit(x_train, y_train)\n",
        "\n",
        "y_pred = clf_svc.predict(x_test)\n",
        "\n",
        "print('Test accuracy is', accuracy_score(y_test, y_pred))"
      ],
      "execution_count": null,
      "outputs": [
        {
          "output_type": "stream",
          "text": [
            "Test accuracy is 0.6741674167416741\n"
          ],
          "name": "stdout"
        }
      ]
    },
    {
      "cell_type": "markdown",
      "metadata": {
        "id": "4EV1ZYmJskLD"
      },
      "source": [
        "###RandomForestClassifier\n"
      ]
    },
    {
      "cell_type": "code",
      "metadata": {
        "id": "QHxkSJ-DAntK",
        "colab": {
          "base_uri": "https://localhost:8080/"
        },
        "outputId": "27559f97-3494-4a57-d435-033174782143"
      },
      "source": [
        "from sklearn.ensemble import RandomForestClassifier\n",
        "\n",
        "clf = RandomForestClassifier(max_depth=2, random_state=0)\n",
        "clf.fit(x_train, y_train)"
      ],
      "execution_count": null,
      "outputs": [
        {
          "output_type": "execute_result",
          "data": {
            "text/plain": [
              "RandomForestClassifier(bootstrap=True, ccp_alpha=0.0, class_weight=None,\n",
              "                       criterion='gini', max_depth=2, max_features='auto',\n",
              "                       max_leaf_nodes=None, max_samples=None,\n",
              "                       min_impurity_decrease=0.0, min_impurity_split=None,\n",
              "                       min_samples_leaf=1, min_samples_split=2,\n",
              "                       min_weight_fraction_leaf=0.0, n_estimators=100,\n",
              "                       n_jobs=None, oob_score=False, random_state=0, verbose=0,\n",
              "                       warm_start=False)"
            ]
          },
          "metadata": {
            "tags": []
          },
          "execution_count": 79
        }
      ]
    },
    {
      "cell_type": "code",
      "metadata": {
        "id": "R_1_D9nZfPvg"
      },
      "source": [
        "y_pred = clf.predict(x_test)"
      ],
      "execution_count": null,
      "outputs": []
    },
    {
      "cell_type": "code",
      "metadata": {
        "colab": {
          "base_uri": "https://localhost:8080/"
        },
        "id": "g4-jWlu1fxLv",
        "outputId": "f8b09a7d-e170-46a3-b819-ba2fb0a53f7a"
      },
      "source": [
        "print('Test accuracy is', accuracy_score(y_test, y_pred))"
      ],
      "execution_count": null,
      "outputs": [
        {
          "output_type": "stream",
          "text": [
            "Test accuracy is 0.6642664266426642\n"
          ],
          "name": "stdout"
        }
      ]
    },
    {
      "cell_type": "markdown",
      "metadata": {
        "id": "zoF5tkeXsqnl"
      },
      "source": [
        "###RandomForestClassifier with GridSearchCV\n"
      ]
    },
    {
      "cell_type": "code",
      "metadata": {
        "id": "k9Wr4q2XqgbY"
      },
      "source": [
        "from sklearn.model_selection import RandomizedSearchCV\n",
        "# Number of trees in random forest\n",
        "n_estimators = [int(x) for x in np.linspace(start = 200, stop = 2000, num = 10)]\n",
        "# Number of features to consider at every split\n",
        "max_features = ['auto', 'sqrt']\n",
        "# Maximum number of levels in tree\n",
        "max_depth = [int(x) for x in np.linspace(10, 110, num = 11)]\n",
        "max_depth.append(None)\n",
        "# Minimum number of samples required to split a node\n",
        "min_samples_split = [2, 5, 10]\n",
        "# Minimum number of samples required at each leaf node\n",
        "min_samples_leaf = [1, 2, 4]\n",
        "# Method of selecting samples for training each tree\n",
        "bootstrap = [True, False]\n",
        "\n",
        "# Create the random grid\n",
        "random_grid = {'n_estimators': n_estimators,\n",
        "               'max_features': max_features,\n",
        "               'max_depth': max_depth,\n",
        "               'min_samples_split': min_samples_split,\n",
        "               'min_samples_leaf': min_samples_leaf,\n",
        "               'bootstrap': bootstrap}"
      ],
      "execution_count": null,
      "outputs": []
    },
    {
      "cell_type": "code",
      "metadata": {
        "colab": {
          "base_uri": "https://localhost:8080/"
        },
        "id": "Y1gvHXOnqgd5",
        "outputId": "490e48dc-9e0c-455b-f643-71a3b18053be"
      },
      "source": [
        "# Use the random grid to search for best hyperparameters\n",
        "# First create the base model to tune\n",
        "rf = RandomForestClassifier()\n",
        "# Random search of parameters, using 3 fold cross validation, \n",
        "# search across 100 different combinations, and use all available cores\n",
        "rf_random = RandomizedSearchCV(estimator = rf, param_distributions = random_grid, n_iter = 100, cv = 3, verbose=2, random_state=42, n_jobs = -1)\n",
        "# Fit the random search model\n",
        "rf_random.fit(x_train, y_train)"
      ],
      "execution_count": null,
      "outputs": [
        {
          "output_type": "stream",
          "text": [
            "Fitting 3 folds for each of 100 candidates, totalling 300 fits\n"
          ],
          "name": "stdout"
        },
        {
          "output_type": "stream",
          "text": [
            "[Parallel(n_jobs=-1)]: Using backend LokyBackend with 2 concurrent workers.\n",
            "[Parallel(n_jobs=-1)]: Done  37 tasks      | elapsed:  1.8min\n",
            "[Parallel(n_jobs=-1)]: Done 158 tasks      | elapsed:  7.2min\n",
            "[Parallel(n_jobs=-1)]: Done 300 out of 300 | elapsed: 13.3min finished\n"
          ],
          "name": "stderr"
        },
        {
          "output_type": "execute_result",
          "data": {
            "text/plain": [
              "RandomizedSearchCV(cv=3, error_score=nan,\n",
              "                   estimator=RandomForestClassifier(bootstrap=True,\n",
              "                                                    ccp_alpha=0.0,\n",
              "                                                    class_weight=None,\n",
              "                                                    criterion='gini',\n",
              "                                                    max_depth=None,\n",
              "                                                    max_features='auto',\n",
              "                                                    max_leaf_nodes=None,\n",
              "                                                    max_samples=None,\n",
              "                                                    min_impurity_decrease=0.0,\n",
              "                                                    min_impurity_split=None,\n",
              "                                                    min_samples_leaf=1,\n",
              "                                                    min_samples_split=2,\n",
              "                                                    min_weight_fraction_leaf=0.0,\n",
              "                                                    n_estimators=100,\n",
              "                                                    n_jobs...\n",
              "                   param_distributions={'bootstrap': [True, False],\n",
              "                                        'max_depth': [10, 20, 30, 40, 50, 60,\n",
              "                                                      70, 80, 90, 100, 110,\n",
              "                                                      None],\n",
              "                                        'max_features': ['auto', 'sqrt'],\n",
              "                                        'min_samples_leaf': [1, 2, 4],\n",
              "                                        'min_samples_split': [2, 5, 10],\n",
              "                                        'n_estimators': [200, 400, 600, 800,\n",
              "                                                         1000, 1200, 1400, 1600,\n",
              "                                                         1800, 2000]},\n",
              "                   pre_dispatch='2*n_jobs', random_state=42, refit=True,\n",
              "                   return_train_score=False, scoring=None, verbose=2)"
            ]
          },
          "metadata": {
            "tags": []
          },
          "execution_count": 86
        }
      ]
    },
    {
      "cell_type": "code",
      "metadata": {
        "colab": {
          "base_uri": "https://localhost:8080/"
        },
        "id": "ZxUCAZTxt2tI",
        "outputId": "19ce6aa9-d29e-4333-93b5-7674d36ed47f"
      },
      "source": [
        "y_pred = rf_random.predict(x_test)\n",
        "\n",
        "print('Test accuracy is', accuracy_score(y_test, y_pred))"
      ],
      "execution_count": null,
      "outputs": [
        {
          "output_type": "stream",
          "text": [
            "Test accuracy is 0.6426642664266426\n"
          ],
          "name": "stdout"
        }
      ]
    },
    {
      "cell_type": "markdown",
      "metadata": {
        "id": "hKYJZhBBrEGL"
      },
      "source": [
        "###XGBoost"
      ]
    },
    {
      "cell_type": "code",
      "metadata": {
        "id": "0YT3qj-Qqggh"
      },
      "source": [
        "import xgboost as xgb\n",
        "\n",
        "data_dmatrix = xgb.DMatrix(data=x_train,label=y_train)\n",
        "\n",
        "xg_cls = xgb.XGBClassifier(objective ='reg:linear', colsample_bytree = 0.3, learning_rate = 0.1,\n",
        "                max_depth = 5, alpha = 10, n_estimators = 10)"
      ],
      "execution_count": null,
      "outputs": []
    },
    {
      "cell_type": "code",
      "metadata": {
        "colab": {
          "base_uri": "https://localhost:8080/"
        },
        "id": "KWAUXBJYsFYR",
        "outputId": "eba91a73-1ebf-4254-bbb7-ae1f6ff17be4"
      },
      "source": [
        "xg_cls.fit(x_train,y_train)\n",
        "\n",
        "preds = xg_cls.predict(x_test)"
      ],
      "execution_count": null,
      "outputs": [
        {
          "output_type": "stream",
          "text": [
            "[14:10:05] WARNING: /workspace/src/objective/regression_obj.cu:152: reg:linear is now deprecated in favor of reg:squarederror.\n"
          ],
          "name": "stdout"
        }
      ]
    },
    {
      "cell_type": "code",
      "metadata": {
        "colab": {
          "base_uri": "https://localhost:8080/"
        },
        "id": "z3tpyfD6sOal",
        "outputId": "81c784a3-5d57-4da7-bb58-f0ecd4d63cbc"
      },
      "source": [
        "print('Test accuracy is', accuracy_score(y_test, preds))"
      ],
      "execution_count": null,
      "outputs": [
        {
          "output_type": "stream",
          "text": [
            "Test accuracy is 0.6462646264626463\n"
          ],
          "name": "stdout"
        }
      ]
    },
    {
      "cell_type": "code",
      "metadata": {
        "id": "x5Z-xGZ_wdT7"
      },
      "source": [
        ""
      ],
      "execution_count": null,
      "outputs": []
    }
  ]
}